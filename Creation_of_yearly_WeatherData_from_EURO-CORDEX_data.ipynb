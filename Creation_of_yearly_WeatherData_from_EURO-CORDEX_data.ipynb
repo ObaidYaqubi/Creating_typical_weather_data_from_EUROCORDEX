{
 "cells": [
  {
   "cell_type": "code",
   "execution_count": 1,
   "metadata": {},
   "outputs": [],
   "source": [
    "import numpy as np \n",
    "import pandas as pd\n",
    "import matplotlib.pyplot as plt\n",
    "%matplotlib inline\n",
    "%config Completer.use_jedi = False\n",
    "import xarray as xr\n",
    "import warnings\n",
    "from netCDF4 import Dataset\n",
    "# creating a series of datatime \n",
    "from datetime import date, datetime, timedelta\n",
    "# plotting time series data \n",
    "import seaborn as sns\n",
    "\n",
    "from pandas import datetime\n",
    "from matplotlib import pyplot"
   ]
  },
  {
   "cell_type": "code",
   "execution_count": 2,
   "metadata": {},
   "outputs": [],
   "source": [
    "from astral import LocationInfo\n",
    "from astral.sun import sun"
   ]
  },
  {
   "cell_type": "raw",
   "metadata": {},
   "source": [
    "Write the name of the year and change the name of folder in the directory of netCDF files"
   ]
  },
  {
   "cell_type": "code",
   "execution_count": 3,
   "metadata": {},
   "outputs": [],
   "source": [
    "year = 2055\n",
    "year2=year+1"
   ]
  },
  {
   "cell_type": "markdown",
   "metadata": {},
   "source": [
    "#### Determinig the the closest point to Nantes coordinates"
   ]
  },
  {
   "cell_type": "code",
   "execution_count": 4,
   "metadata": {},
   "outputs": [
    {
     "name": "stdout",
     "output_type": "stream",
     "text": [
      "temperature data  : dict_keys(['time', 'rlat', 'rlon', 'rotated_latitude_longitude', 'lat', 'lon', 'lat_vertices', 'lon_vertices', 'height', 'tas'])\n"
     ]
    }
   ],
   "source": [
    "## Visualize netCDF file of temperature  \n",
    "tas1 = Dataset(r'F:\\Donnees_PC\\Weather_files\\CORDEX_weather_data\\MPI_REMO\\MPI_REMO2055\\tas_EUR-11_MPI-M-MPI-ESM-LR_rcp85_r3i1p1_GERICS-REMO2015_v1_3hr_'+str(year)+'01010100-'+str(year)+'12312200.nc')\n",
    "print(\"temperature data \"+\" : \" + str(tas1.variables.keys()))"
   ]
  },
  {
   "cell_type": "code",
   "execution_count": 5,
   "metadata": {},
   "outputs": [
    {
     "name": "stdout",
     "output_type": "stream",
     "text": [
      "Total number of grid points along y axis(lat) = 412\n",
      "Total number of grid points along x axis(lon) = 424\n",
      "Index of closest data point along y axis(lat) to assigned location = 196\n",
      "Index of closest data point along x axis(lon) to assigned location = 138\n"
     ]
    }
   ],
   "source": [
    "# Storing the coordinates (lon, lat) into variables \n",
    "lats = tas1.variables['rlat'][:]\n",
    "lons = tas1.variables['rlon'][:]\n",
    "# Assigned location coordinates \n",
    "lat_Nantes =  -1.7927858546021267    # 47.210517 ; latitude coordinates of Centre ville in rotated pole grid \n",
    "lon_Nantes =  -13.146332621887227    #-1.546285  ; longitude coordinates of Centre ville in rotated pole grid \n",
    "# Selecting the nearest grid point to assigned location\n",
    "# storing the squared differences of \n",
    "sq_diff_lat = (lats-lat_Nantes)**2\n",
    "sq_diff_lon = (lons-lon_Nantes)**2\n",
    "\n",
    "## Verifying the shape of coordinates \n",
    "print(\"Total number of grid points along y axis(lat)\"+\" = \" + str(len(sq_diff_lat)))\n",
    "print(\"Total number of grid points along x axis(lon)\"+\" = \" + str(len(sq_diff_lon)))\n",
    "\n",
    "## Identifying the index of minimum values for lat and lon sq_differences\n",
    "min_index_lat = sq_diff_lat.argmin()\n",
    "min_index_lon = sq_diff_lon.argmin()\n",
    "\n",
    "print(\"Index of closest data point along y axis(lat) to assigned location\"+\" = \" + str(min_index_lat))\n",
    "print(\"Index of closest data point along x axis(lon) to assigned location\"+\" = \" + str(min_index_lon))"
   ]
  },
  {
   "cell_type": "markdown",
   "metadata": {},
   "source": [
    "#### Creating a date-time dataframe"
   ]
  },
  {
   "cell_type": "code",
   "execution_count": 6,
   "metadata": {},
   "outputs": [],
   "source": [
    "# creating a DataFrame of year, month, day and hours \n",
    "def datetime_range(start,end,delta):\n",
    "    current=start\n",
    "    if not isinstance(delta,timedelta):\n",
    "        delta = timedelta(**delta)\n",
    "    while current < end:\n",
    "        yield current\n",
    "        current +=delta"
   ]
  },
  {
   "cell_type": "code",
   "execution_count": 7,
   "metadata": {},
   "outputs": [
    {
     "name": "stdout",
     "output_type": "stream",
     "text": [
      "             DateTime\n",
      "0 2055-01-01 00:00:00\n",
      "1 2055-01-01 03:00:00\n",
      "                DateTime\n",
      "2919 2055-12-31 21:00:00\n"
     ]
    }
   ],
   "source": [
    "# Dataframe of time and dates: each subsequent row difference is 3 hours\n",
    "start = datetime(year,0o1,0o1)\n",
    "end = datetime(year2,0o1,0o1)\n",
    "\n",
    "df = pd.DataFrame({'DateTime':datetime_range(start,end,{'days':0,'hours':3})})\n",
    "\n",
    "# Removing leap day data if year is a leap year \n",
    "df = df[~((df['DateTime'].dt.month == 2) & (df['DateTime'].dt.day == 29))]\n",
    "# reindex in place\n",
    "df= df.reset_index()\n",
    "## Drop index column \n",
    "df=df.drop(['index'], axis=1)\n",
    "# Visualize beginning and end of dataframe\n",
    "print(df.head(2))\n",
    "print(df.tail(1))"
   ]
  },
  {
   "cell_type": "markdown",
   "metadata": {},
   "source": [
    "#### Reading NetCDF files for 6 climate variables of the closest grid point to the assigned location"
   ]
  },
  {
   "cell_type": "code",
   "execution_count": 8,
   "metadata": {},
   "outputs": [
    {
     "name": "stdout",
     "output_type": "stream",
     "text": [
      "temperature data  : dict_keys(['time', 'rlat', 'rlon', 'rotated_latitude_longitude', 'lat', 'lon', 'lat_vertices', 'lon_vertices', 'height', 'tas'])\n",
      "humidity ratio data  : dict_keys(['time', 'rlat', 'rlon', 'rotated_latitude_longitude', 'lat', 'lon', 'lat_vertices', 'lon_vertices', 'height', 'hurs'])\n",
      "Surface Downwelling Shortwave Radiation data  : dict_keys(['time', 'time_bnds', 'rlat', 'rlon', 'rotated_latitude_longitude', 'lat', 'lon', 'lat_vertices', 'lon_vertices', 'rsds'])\n",
      "Near surface wind speed data  : dict_keys(['time', 'rlat', 'rlon', 'rotated_latitude_longitude', 'lat', 'lon', 'lat_vertices', 'lon_vertices', 'height', 'sfcWind'])\n",
      "total cloud cover fraction data  : dict_keys(['time', 'time_bnds', 'rlat', 'rlon', 'rotated_latitude_longitude', 'lat', 'lon', 'lat_vertices', 'lon_vertices', 'clt'])\n",
      "surface_air_pressure data Pa  : dict_keys(['time', 'rlat', 'rlon', 'rotated_latitude_longitude', 'lat', 'lon', 'lat_vertices', 'lon_vertices', 'ps'])\n"
     ]
    }
   ],
   "source": [
    "# Visualize netCDF file of temperature  \n",
    "tas1 = Dataset(r'F:\\Donnees_PC\\Weather_files\\CORDEX_weather_data\\MPI_REMO\\MPI_REMO2055\\tas_EUR-11_MPI-M-MPI-ESM-LR_rcp85_r3i1p1_GERICS-REMO2015_v1_3hr_'+str(year)+'01010100-'+str(year)+'12312200.nc')\n",
    "print(\"temperature data \"+\" : \" + str(tas1.variables.keys()))\n",
    "\n",
    "# Visualize and load humidity ratio data \"%\" \n",
    "hurs1 = Dataset(r'F:\\Donnees_PC\\Weather_files\\CORDEX_weather_data\\MPI_REMO\\MPI_REMO2055\\hurs_EUR-11_MPI-M-MPI-ESM-LR_rcp85_r3i1p1_GERICS-REMO2015_v1_3hr_'+str(year)+'01010100-'+str(year)+'12312200.nc')\n",
    "print(\"humidity ratio data \"+\" : \" + str(hurs1.variables.keys()))\n",
    "\n",
    "# Visualize and load Surface Downwelling Shortwave Radiation :units = \"W m-2\"; data\"\n",
    "rsds1 = Dataset(r'F:\\Donnees_PC\\Weather_files\\CORDEX_weather_data\\MPI_REMO\\MPI_REMO2055\\rsds_EUR-11_MPI-M-MPI-ESM-LR_rcp85_r3i1p1_GERICS-REMO2015_v1_3hr_'+str(year)+'01010130-'+str(year)+'12312230.nc')\n",
    "print(\"Surface Downwelling Shortwave Radiation data \"+\" : \" + str(rsds1.variables.keys()))\n",
    "\n",
    "# Visualize and load Near surface wind speed data :units = \"m s-1\"; data\"\n",
    "sfcWind1 = Dataset(r'F:\\Donnees_PC\\Weather_files\\CORDEX_weather_data\\MPI_REMO\\MPI_REMO2055\\sfcWind_EUR-11_MPI-M-MPI-ESM-LR_rcp85_r3i1p1_GERICS-REMO2015_v1_3hr_'+str(year)+'01010100-'+str(year)+'12312200.nc')\n",
    "print(\"Near surface wind speed data \"+\" : \" + str(sfcWind1.variables.keys()))\n",
    "\n",
    "# Visualize and load total cloud cover fraction :units \"%\"\n",
    "clt1 = Dataset(r'F:\\Donnees_PC\\Weather_files\\CORDEX_weather_data\\MPI_REMO\\MPI_REMO2055\\clt_EUR-11_MPI-M-MPI-ESM-LR_rcp85_r3i1p1_GERICS-REMO2015_v1_3hr_'+str(year)+'01010130-'+str(year)+'12312230.nc')\n",
    "print(\"total cloud cover fraction data \"+\" : \" + str(clt1.variables.keys()))\n",
    "\n",
    "# Visualize and load atmospheric pressure :units \"%\"\n",
    "ps1 = Dataset(r'F:\\Donnees_PC\\Weather_files\\CORDEX_weather_data\\MPI_REMO\\MPI_REMO2055\\ps_EUR-11_MPI-M-MPI-ESM-LR_rcp85_r3i1p1_GERICS-REMO2015_v1_3hr_'+str(year)+'01010100-'+str(year)+'12312200.nc')\n",
    "print(\"surface_air_pressure data Pa \"+\" : \" + str(ps1.variables.keys()))"
   ]
  },
  {
   "cell_type": "markdown",
   "metadata": {},
   "source": [
    "#### Appending climate variable values of the closest grid point to the Date-time dataframe"
   ]
  },
  {
   "cell_type": "code",
   "execution_count": 9,
   "metadata": {},
   "outputs": [],
   "source": [
    "temp = tas1.variables['tas']\n",
    "humidity = hurs1.variables['hurs']\n",
    "radiation = rsds1.variables['rsds']\n",
    "Wind = sfcWind1.variables['sfcWind']\n",
    "Cloud_fract = clt1.variables['clt']\n",
    "s_pressure = ps1.variables['ps']\n",
    "\n",
    "# Calculating values of the indices that were previouosly found with arg_min\n",
    "temperat =[]\n",
    "humidityR =[]\n",
    "radiationSh =[]\n",
    "WindS =[]\n",
    "Cloud =[]\n",
    "S_pressure =[]\n",
    "\n",
    "for index, row in df.iterrows():  \n",
    "    \n",
    "    a = temp[index,min_index_lat,min_index_lon]-273.15\n",
    "    b = humidity[index,min_index_lat,min_index_lon]\n",
    "    c = radiation[index,min_index_lat,min_index_lon]\n",
    "    d = Wind[index,min_index_lat,min_index_lon]\n",
    "    e = Cloud_fract[index,min_index_lat,min_index_lon]\n",
    "    f = s_pressure[index,min_index_lat,min_index_lon]\n",
    "    \n",
    "    temperat.append(a)\n",
    "    humidityR.append(b)\n",
    "    radiationSh.append(c)\n",
    "    WindS.append(d)\n",
    "    Cloud.append(e)\n",
    "    S_pressure.append(f)\n",
    "    \n",
    "df[\"DB_Temp\"] = temperat\n",
    "df[\"RelativeHumidity\"] = humidityR\n",
    "df[\"GHRadiation\"] = radiationSh\n",
    "df[\"WindSpeed\"] = WindS\n",
    "df[\"CloudCover\"] = Cloud\n",
    "df[\"AtmosPressure\"] = S_pressure\n",
    "\n",
    "# Turn objects to float \n",
    "df[\"DB_Temp\"] = df.DB_Temp.astype(float)\n",
    "df[\"RelativeHumidity\"] = df.RelativeHumidity.astype(float)\n",
    "df[\"GHRadiation\"] = df.GHRadiation.astype(float)\n",
    "df[\"WindSpeed\"] = df.WindSpeed.astype(float)\n",
    "df[\"CloudCover\"] = df.CloudCover.astype(float)\n",
    "df[\"AtmosPressure\"] = df.AtmosPressure.astype(float)"
   ]
  },
  {
   "cell_type": "markdown",
   "metadata": {},
   "source": [
    "#### Interpolation of 3hr data points to hourly and calculation of remaining fields of weather file."
   ]
  },
  {
   "cell_type": "code",
   "execution_count": 10,
   "metadata": {},
   "outputs": [],
   "source": [
    "df=df.set_index('DateTime').resample('H').last()"
   ]
  },
  {
   "cell_type": "code",
   "execution_count": 11,
   "metadata": {},
   "outputs": [],
   "source": [
    "df['DB_Temp'].interpolate(method='polynomial', order=7, inplace=True)\n",
    "df['RelativeHumidity'].interpolate(method='linear', limit_direction='both',limit=2, inplace=True)\n",
    "df['AtmosPressure'].interpolate(method='linear', limit_direction='both',limit=2, inplace=True)\n",
    "df['CloudCover'].interpolate(method='linear', limit_direction='both',limit=2, inplace=True)\n",
    "df['GHRadiation'].interpolate(method='polynomial', order=7, inplace=True)\n",
    "df['WindSpeed'].interpolate(method='linear', limit_direction='both',limit=2, inplace=True)"
   ]
  },
  {
   "cell_type": "markdown",
   "metadata": {},
   "source": [
    "#### Estimating dew point temperature"
   ]
  },
  {
   "cell_type": "code",
   "execution_count": 12,
   "metadata": {},
   "outputs": [],
   "source": [
    "# August–Roche–Magnus formula for dew point temperature approximation: \n",
    "def get_dew_point_c(DryBulbTemp, Rel_humidity):\n",
    "    \"\"\"Compute the dew point in degrees Celsius\n",
    "    :param DryBulbTemp: current ambient temperature in degrees Celsius\n",
    "    :type DryBulbTemp: float\n",
    "    :param Rel_humidity: relative humidity in %\n",
    "    :type Rel_humidity: float\n",
    "    :return: the dew point in degrees Celsius\n",
    "    :rtype: float\n",
    "    Set of values originates from the 1974 Psychrometry and Psychrometric Charts, as presented by Paroscientific,[15]\n",
    "     A = 17.27, B = 237.7 °C; for 0 °C ≤ T ≤ 60 °C (error ±0.4 °C).\n",
    "    \"\"\"\n",
    "    A = 17.27\n",
    "    B = 237.7\n",
    "    alpha = ((A * DryBulbTemp) / (B + DryBulbTemp)) + np.log(Rel_humidity/100.0)\n",
    "    return (B * alpha) / (A - alpha)"
   ]
  },
  {
   "cell_type": "code",
   "execution_count": 13,
   "metadata": {},
   "outputs": [],
   "source": [
    "df['DewPointTemperature'] = round(get_dew_point_c(df['DB_Temp'],df['RelativeHumidity']),2)"
   ]
  },
  {
   "cell_type": "markdown",
   "metadata": {},
   "source": [
    "#### Calculating Sunrise and sunset time for the assigned location"
   ]
  },
  {
   "cell_type": "code",
   "execution_count": 14,
   "metadata": {},
   "outputs": [
    {
     "name": "stdout",
     "output_type": "stream",
     "text": [
      "Europe/Paris\n",
      "47.2105\n"
     ]
    }
   ],
   "source": [
    "# Setting timezone for Nantes city to calculate sunrise and sunset time. Nantes follows Paris timezone \n",
    "city = LocationInfo(\"Nantes\",\"France\",\"Europe/Paris\",47.2105, -1.54628)\n",
    "tz=city.timezone\n",
    "print(tz)\n",
    "print(city.latitude)"
   ]
  },
  {
   "cell_type": "code",
   "execution_count": 15,
   "metadata": {},
   "outputs": [],
   "source": [
    "import datetime"
   ]
  },
  {
   "cell_type": "code",
   "execution_count": 16,
   "metadata": {},
   "outputs": [],
   "source": [
    "df=df.reset_index()"
   ]
  },
  {
   "cell_type": "code",
   "execution_count": 17,
   "metadata": {},
   "outputs": [],
   "source": [
    "# Splitting year, month, day to calculate sunrise and sundown time in each day and add them as a column \n",
    "df['year']=df['DateTime'].dt.year\n",
    "df['month']=df['DateTime'].dt.month\n",
    "df['day']=df['DateTime'].dt.day"
   ]
  },
  {
   "cell_type": "code",
   "execution_count": 18,
   "metadata": {},
   "outputs": [],
   "source": [
    "sr = []\n",
    "st = []\n",
    "for i, row in df.iterrows(): \n",
    "    \n",
    "    sries=sun(city.observer, date=datetime.date(df.year[i],df.month[i],df.day[i]),tzinfo=city.timezone)[\"sunrise\"]\n",
    "    sriet=sun(city.observer, date=datetime.date(df.year[i],df.month[i],df.day[i]),tzinfo=city.timezone)[\"sunset\"]\n",
    "    \n",
    "    sr.append(sries)\n",
    "    st.append(sriet)\n",
    "    \n",
    "df[\"sunrise\"]=sr\n",
    "df[\"sunset\"]=st\n",
    "#print(s[\"sunset\"])"
   ]
  },
  {
   "cell_type": "code",
   "execution_count": 19,
   "metadata": {},
   "outputs": [
    {
     "name": "stdout",
     "output_type": "stream",
     "text": [
      "211.78707885742188\n"
     ]
    }
   ],
   "source": [
    "sunsr=df.sunrise[12].tz_localize(None)\n",
    "sunst=df.sunset[12].tz_localize(None)\n",
    "hourtime=df.DateTime[12].tz_localize(None)\n",
    "\n",
    "sunsr=sunsr.strftime(\"%m/%d/%Y, %H:%M:%S\")\n",
    "sunst=sunst.strftime(\"%m/%d/%Y, %H:%M:%S\")\n",
    "hourtime=hourtime.strftime(\"%m/%d/%Y, %H:%M:%S\")\n",
    "                                  \n",
    "sunrisen = datetime.datetime.strptime(sunsr, '%m/%d/%Y, %H:%M:%S')\n",
    "sundown = datetime.datetime.strptime(sunst, '%m/%d/%Y, %H:%M:%S')\n",
    "mytime= datetime.datetime.strptime(hourtime, '%m/%d/%Y, %H:%M:%S')\n",
    "\n",
    "if mytime<sundown and mytime>sunrisen:\n",
    "    print(df.GHRadiation[12])\n",
    "else:\n",
    "    print(0)"
   ]
  },
  {
   "cell_type": "code",
   "execution_count": 20,
   "metadata": {},
   "outputs": [],
   "source": [
    "# Replacing the interpolated values of GHI that are between sunset and sunrise to zero \n",
    "NewGHI=[] #\n",
    "\n",
    "for i, row in df.iterrows():\n",
    "    sunsr=df.sunrise[i].tz_localize(None)\n",
    "    sunst=df.sunset[i].tz_localize(None)\n",
    "    hourtime=df.DateTime[i].tz_localize(None)\n",
    "\n",
    "    sunsr=sunsr.strftime(\"%m/%d/%Y, %H:%M:%S\")\n",
    "    sunst=sunst.strftime(\"%m/%d/%Y, %H:%M:%S\")\n",
    "    hourtime=hourtime.strftime(\"%m/%d/%Y, %H:%M:%S\")\n",
    "                                  \n",
    "    sunrisen = datetime.datetime.strptime(sunsr, '%m/%d/%Y, %H:%M:%S')\n",
    "    sundown = datetime.datetime.strptime(sunst, '%m/%d/%Y, %H:%M:%S')\n",
    "    mytime= datetime.datetime.strptime(hourtime, '%m/%d/%Y, %H:%M:%S')\n",
    "\n",
    "    if mytime<sundown and mytime>sunrisen and df.GHRadiation[i]>0:\n",
    "        n=df.GHRadiation[i]\n",
    "    else:\n",
    "        n=0\n",
    "        \n",
    "    NewGHI.append(n)\n",
    "df[\"GHI\"] = NewGHI"
   ]
  },
  {
   "cell_type": "raw",
   "metadata": {},
   "source": [
    "The precision of sunset/sunrise and global horizontal calculation could be improved if calculations are done at shorter time intervals. Here, time is calculated hourly. "
   ]
  },
  {
   "cell_type": "code",
   "execution_count": 21,
   "metadata": {},
   "outputs": [],
   "source": [
    "# Drop unnecessary columns for now \n",
    "df=df.drop(columns=['GHRadiation','day','sunrise','sunset'])"
   ]
  },
  {
   "cell_type": "markdown",
   "metadata": {},
   "source": [
    "#### Calcuating DNI using DISC approximation"
   ]
  },
  {
   "cell_type": "code",
   "execution_count": 22,
   "metadata": {},
   "outputs": [],
   "source": [
    "## Day of year: ordinal days of the year \n",
    "newDays=[]\n",
    "for i, row in df.iterrows():\n",
    "    DS=df.DateTime[i].tz_localize(None)\n",
    "    DS=DS.strftime(\"%m/%d/%Y, %H:%M:%S\")\n",
    "    doy= datetime.datetime.strptime(DS, '%m/%d/%Y, %H:%M:%S').timetuple().tm_yday\n",
    "    newDays.append(doy)\n",
    "df['OrdinalDay']= newDays\n",
    "#tm_hour"
   ]
  },
  {
   "cell_type": "code",
   "execution_count": 24,
   "metadata": {},
   "outputs": [],
   "source": [
    "import pvlib as pvl\n",
    "import pytz"
   ]
  },
  {
   "cell_type": "code",
   "execution_count": 25,
   "metadata": {},
   "outputs": [],
   "source": [
    "## a loop to calculate Solar zenith angle\n",
    "ZenAngle=[]\n",
    "for i, row in df.iterrows():\n",
    "    Zt=df.DateTime[i].tz_localize(None)\n",
    "    g=pvl.solarposition.get_solarposition(time=Zt,\n",
    "                                      latitude=47.2105,# latitude of Nantes \n",
    "                                      longitude=-1.54628, # Longitude of Nantes \n",
    "                                      altitude=None,\n",
    "                                      pressure=df.AtmosPressure[i],\n",
    "                                      method='nrel_numpy',\n",
    "                                      temperature=df.DB_Temp[i]).zenith.values[0]\n",
    "    ZenAngle.append(round(g,2))\n",
    "df['SolarZenith']= ZenAngle"
   ]
  },
  {
   "cell_type": "code",
   "execution_count": 26,
   "metadata": {},
   "outputs": [],
   "source": [
    "import math"
   ]
  },
  {
   "cell_type": "code",
   "execution_count": 27,
   "metadata": {},
   "outputs": [
    {
     "name": "stderr",
     "output_type": "stream",
     "text": [
      "<ipython-input-27-f20766d7981d>:10: RuntimeWarning: invalid value encountered in double_scalars\n",
      "  max_airmass=(1/(math.cos(df.SolarZenith[i])+0.50572*(96.07995-df.SolarZenith[i])**(-1.6364))))['dni']\n",
      "C:\\Users\\obaidullah.yaqubi\\AppData\\Roaming\\Python\\Python38\\site-packages\\pvlib\\irradiance.py:1418: RuntimeWarning: overflow encountered in exp\n",
      "  delta_kn = a + b * np.exp(c*am)\n"
     ]
    }
   ],
   "source": [
    "# Calculating Direct normal irradiance using zenith angle, ordinal days, atmospheric pressure, and airmass\n",
    "dni=[]\n",
    "for i, row in df.iterrows():\n",
    "    p = pvl.irradiance.disc(ghi=df.GHI[i], \n",
    "                      solar_zenith=df.SolarZenith[i], \n",
    "                      datetime_or_doy=df.OrdinalDay[i], \n",
    "                      pressure=df.AtmosPressure[i], \n",
    "                      min_cos_zenith=0.065, \n",
    "                      max_zenith=87, \n",
    "                      max_airmass=(1/(math.cos(df.SolarZenith[i])+0.50572*(96.07995-df.SolarZenith[i])\n",
    "                                      **(-1.6364))))['dni']\n",
    "    # Accounting for cloud cover\n",
    "    S1=p.tolist()*(1-(df.CloudCover[i])/100)\n",
    "    dni.append(round(S1,2))\n",
    "    \n",
    "df['DNI']= dni"
   ]
  },
  {
   "cell_type": "code",
   "execution_count": 28,
   "metadata": {},
   "outputs": [
    {
     "data": {
      "text/html": [
       "<div>\n",
       "<style scoped>\n",
       "    .dataframe tbody tr th:only-of-type {\n",
       "        vertical-align: middle;\n",
       "    }\n",
       "\n",
       "    .dataframe tbody tr th {\n",
       "        vertical-align: top;\n",
       "    }\n",
       "\n",
       "    .dataframe thead th {\n",
       "        text-align: right;\n",
       "    }\n",
       "</style>\n",
       "<table border=\"1\" class=\"dataframe\">\n",
       "  <thead>\n",
       "    <tr style=\"text-align: right;\">\n",
       "      <th></th>\n",
       "      <th>DateTime</th>\n",
       "      <th>DB_Temp</th>\n",
       "      <th>RelativeHumidity</th>\n",
       "      <th>WindSpeed</th>\n",
       "      <th>CloudCover</th>\n",
       "      <th>AtmosPressure</th>\n",
       "      <th>DewPointTemperature</th>\n",
       "      <th>year</th>\n",
       "      <th>month</th>\n",
       "      <th>GHI</th>\n",
       "      <th>OrdinalDay</th>\n",
       "      <th>SolarZenith</th>\n",
       "      <th>DNI</th>\n",
       "    </tr>\n",
       "  </thead>\n",
       "  <tbody>\n",
       "    <tr>\n",
       "      <th>5000</th>\n",
       "      <td>2055-07-28 08:00:00</td>\n",
       "      <td>28.545783</td>\n",
       "      <td>64.471621</td>\n",
       "      <td>2.575628</td>\n",
       "      <td>13.973272</td>\n",
       "      <td>102531.992188</td>\n",
       "      <td>21.18</td>\n",
       "      <td>2055</td>\n",
       "      <td>7</td>\n",
       "      <td>642.757086</td>\n",
       "      <td>209</td>\n",
       "      <td>58.13</td>\n",
       "      <td>0.00</td>\n",
       "    </tr>\n",
       "    <tr>\n",
       "      <th>5001</th>\n",
       "      <td>2055-07-28 09:00:00</td>\n",
       "      <td>29.380029</td>\n",
       "      <td>55.186306</td>\n",
       "      <td>2.959718</td>\n",
       "      <td>15.382727</td>\n",
       "      <td>102502.679688</td>\n",
       "      <td>19.44</td>\n",
       "      <td>2055</td>\n",
       "      <td>7</td>\n",
       "      <td>760.595886</td>\n",
       "      <td>209</td>\n",
       "      <td>48.21</td>\n",
       "      <td>0.00</td>\n",
       "    </tr>\n",
       "    <tr>\n",
       "      <th>5002</th>\n",
       "      <td>2055-07-28 10:00:00</td>\n",
       "      <td>29.719242</td>\n",
       "      <td>55.577503</td>\n",
       "      <td>3.178748</td>\n",
       "      <td>19.121150</td>\n",
       "      <td>102483.351562</td>\n",
       "      <td>19.86</td>\n",
       "      <td>2055</td>\n",
       "      <td>7</td>\n",
       "      <td>821.576213</td>\n",
       "      <td>209</td>\n",
       "      <td>39.13</td>\n",
       "      <td>746.52</td>\n",
       "    </tr>\n",
       "    <tr>\n",
       "      <th>5003</th>\n",
       "      <td>2055-07-28 11:00:00</td>\n",
       "      <td>29.773220</td>\n",
       "      <td>55.968700</td>\n",
       "      <td>3.397777</td>\n",
       "      <td>22.859574</td>\n",
       "      <td>102464.023438</td>\n",
       "      <td>20.03</td>\n",
       "      <td>2055</td>\n",
       "      <td>7</td>\n",
       "      <td>821.657616</td>\n",
       "      <td>209</td>\n",
       "      <td>31.97</td>\n",
       "      <td>549.49</td>\n",
       "    </tr>\n",
       "  </tbody>\n",
       "</table>\n",
       "</div>"
      ],
      "text/plain": [
       "                DateTime    DB_Temp  RelativeHumidity  WindSpeed  CloudCover  \\\n",
       "5000 2055-07-28 08:00:00  28.545783         64.471621   2.575628   13.973272   \n",
       "5001 2055-07-28 09:00:00  29.380029         55.186306   2.959718   15.382727   \n",
       "5002 2055-07-28 10:00:00  29.719242         55.577503   3.178748   19.121150   \n",
       "5003 2055-07-28 11:00:00  29.773220         55.968700   3.397777   22.859574   \n",
       "\n",
       "      AtmosPressure  DewPointTemperature  year  month         GHI  OrdinalDay  \\\n",
       "5000  102531.992188                21.18  2055      7  642.757086         209   \n",
       "5001  102502.679688                19.44  2055      7  760.595886         209   \n",
       "5002  102483.351562                19.86  2055      7  821.576213         209   \n",
       "5003  102464.023438                20.03  2055      7  821.657616         209   \n",
       "\n",
       "      SolarZenith     DNI  \n",
       "5000        58.13    0.00  \n",
       "5001        48.21    0.00  \n",
       "5002        39.13  746.52  \n",
       "5003        31.97  549.49  "
      ]
     },
     "execution_count": 28,
     "metadata": {},
     "output_type": "execute_result"
    }
   ],
   "source": [
    "# Seeing how does the date-time dataframe looks like\n",
    "df.iloc[5000:5004]"
   ]
  },
  {
   "cell_type": "code",
   "execution_count": 29,
   "metadata": {},
   "outputs": [
    {
     "name": "stdout",
     "output_type": "stream",
     "text": [
      "923.01\n"
     ]
    },
    {
     "data": {
      "text/plain": [
       "746.52"
      ]
     },
     "execution_count": 29,
     "metadata": {},
     "output_type": "execute_result"
    }
   ],
   "source": [
    "# Verifying how does calculated DNI looks like in the file\n",
    "p = pvl.irradiance.disc(ghi=df.GHI[5002], \n",
    "                      solar_zenith=df.SolarZenith[5002], \n",
    "                      datetime_or_doy=df.OrdinalDay[5002], \n",
    "                      pressure=df.AtmosPressure[5002], \n",
    "                      min_cos_zenith=0.065, \n",
    "                      max_zenith=87, \n",
    "                      max_airmass=(1/(math.cos(df.SolarZenith[5002])+0.50572*(96.07995-df.SolarZenith[5002])\n",
    "                                      **(-1.6364))))['dni']\n",
    "print(round(p.tolist(),2))\n",
    "# Accounting for cloud cover\n",
    "S1=p.tolist()*(1-(df.CloudCover[5002])/100)\n",
    "round(S1,2)"
   ]
  },
  {
   "cell_type": "code",
   "execution_count": 30,
   "metadata": {},
   "outputs": [
    {
     "name": "stdout",
     "output_type": "stream",
     "text": [
      "['DateTime', 'DB_Temp', 'RelativeHumidity', 'WindSpeed', 'CloudCover', 'AtmosPressure', 'DewPointTemperature', 'year', 'month', 'GHI', 'OrdinalDay', 'SolarZenith', 'DNI']\n"
     ]
    }
   ],
   "source": [
    "colmn = df.columns.tolist()\n",
    "print (colmn)"
   ]
  },
  {
   "cell_type": "code",
   "execution_count": 31,
   "metadata": {},
   "outputs": [
    {
     "data": {
      "text/html": [
       "<div>\n",
       "<style scoped>\n",
       "    .dataframe tbody tr th:only-of-type {\n",
       "        vertical-align: middle;\n",
       "    }\n",
       "\n",
       "    .dataframe tbody tr th {\n",
       "        vertical-align: top;\n",
       "    }\n",
       "\n",
       "    .dataframe thead th {\n",
       "        text-align: right;\n",
       "    }\n",
       "</style>\n",
       "<table border=\"1\" class=\"dataframe\">\n",
       "  <thead>\n",
       "    <tr style=\"text-align: right;\">\n",
       "      <th></th>\n",
       "      <th>DateTime</th>\n",
       "      <th>year</th>\n",
       "      <th>month</th>\n",
       "      <th>DB_Temp</th>\n",
       "      <th>DewPointTemperature</th>\n",
       "      <th>RelativeHumidity</th>\n",
       "      <th>WindSpeed</th>\n",
       "      <th>CloudCover</th>\n",
       "      <th>AtmosPressure</th>\n",
       "      <th>GHI</th>\n",
       "      <th>DNI</th>\n",
       "      <th>SolarZenith</th>\n",
       "    </tr>\n",
       "  </thead>\n",
       "  <tbody>\n",
       "    <tr>\n",
       "      <th>0</th>\n",
       "      <td>2055-01-01 00:00:00</td>\n",
       "      <td>2055</td>\n",
       "      <td>1</td>\n",
       "      <td>11.928796</td>\n",
       "      <td>10.76</td>\n",
       "      <td>92.573906</td>\n",
       "      <td>4.578446</td>\n",
       "      <td>96.912216</td>\n",
       "      <td>103194.500000</td>\n",
       "      <td>0.0</td>\n",
       "      <td>0.0</td>\n",
       "      <td>155.73</td>\n",
       "    </tr>\n",
       "    <tr>\n",
       "      <th>1</th>\n",
       "      <td>2055-01-01 01:00:00</td>\n",
       "      <td>2055</td>\n",
       "      <td>1</td>\n",
       "      <td>8.906792</td>\n",
       "      <td>7.46</td>\n",
       "      <td>90.627139</td>\n",
       "      <td>4.251208</td>\n",
       "      <td>74.319516</td>\n",
       "      <td>103196.804688</td>\n",
       "      <td>0.0</td>\n",
       "      <td>0.0</td>\n",
       "      <td>153.76</td>\n",
       "    </tr>\n",
       "  </tbody>\n",
       "</table>\n",
       "</div>"
      ],
      "text/plain": [
       "             DateTime  year  month    DB_Temp  DewPointTemperature  \\\n",
       "0 2055-01-01 00:00:00  2055      1  11.928796                10.76   \n",
       "1 2055-01-01 01:00:00  2055      1   8.906792                 7.46   \n",
       "\n",
       "   RelativeHumidity  WindSpeed  CloudCover  AtmosPressure  GHI  DNI  \\\n",
       "0         92.573906   4.578446   96.912216  103194.500000  0.0  0.0   \n",
       "1         90.627139   4.251208   74.319516  103196.804688  0.0  0.0   \n",
       "\n",
       "   SolarZenith  \n",
       "0       155.73  \n",
       "1       153.76  "
      ]
     },
     "execution_count": 31,
     "metadata": {},
     "output_type": "execute_result"
    }
   ],
   "source": [
    "new_columns = ['DateTime','year','month','DB_Temp','DewPointTemperature','RelativeHumidity',\n",
    "               'WindSpeed', 'CloudCover','AtmosPressure','GHI','DNI','SolarZenith']\n",
    "df = df[new_columns]\n",
    "df.head(2)"
   ]
  },
  {
   "cell_type": "markdown",
   "metadata": {},
   "source": [
    "#### Calculating diffuse horizontal irradiance"
   ]
  },
  {
   "cell_type": "code",
   "execution_count": 36,
   "metadata": {},
   "outputs": [],
   "source": [
    "dhi=[]\n",
    "for i, row in df.iterrows():\n",
    "    h = df.GHI[i]-(df.DNI[i]*math.cos(df.SolarZenith[i]))\n",
    "    dhi.append(round(h,2))\n",
    "    \n",
    "df['DHI']= dhi"
   ]
  },
  {
   "cell_type": "code",
   "execution_count": 35,
   "metadata": {},
   "outputs": [],
   "source": [
    "# Removing leap day data if year is a leap year \n",
    "df = df[~((df['DateTime'].dt.month == 2) & (df['DateTime'].dt.day == 29))]"
   ]
  },
  {
   "cell_type": "raw",
   "metadata": {},
   "source": [
    "Saving the data into an excel sheet to later be used in creation of Typical weather files"
   ]
  },
  {
   "cell_type": "code",
   "execution_count": null,
   "metadata": {},
   "outputs": [],
   "source": [
    "df.to_excel(r'D:\\Weather_files\\CORDEX_weather_data\\MPI_REMO\\MPI-ESM-LR_rcp85_r3i1p1_GERICS-REMO2015_v1_'+str(year)+'.xlsx', index = 0)"
   ]
  }
 ],
 "metadata": {
  "kernelspec": {
   "display_name": "Python 3",
   "language": "python",
   "name": "python3"
  },
  "language_info": {
   "codemirror_mode": {
    "name": "ipython",
    "version": 3
   },
   "file_extension": ".py",
   "mimetype": "text/x-python",
   "name": "python",
   "nbconvert_exporter": "python",
   "pygments_lexer": "ipython3",
   "version": "3.8.6"
  }
 },
 "nbformat": 4,
 "nbformat_minor": 4
}
