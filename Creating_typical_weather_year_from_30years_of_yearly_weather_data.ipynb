{
 "cells": [
  {
   "cell_type": "code",
   "execution_count": 1,
   "metadata": {},
   "outputs": [],
   "source": [
    "import os\n",
    "import pandas as pd\n",
    "from datetime import date, datetime, timedelta"
   ]
  },
  {
   "cell_type": "markdown",
   "metadata": {},
   "source": [
    "#### Loading 30 year data in csv/xls format exported from yearly data"
   ]
  },
  {
   "cell_type": "code",
   "execution_count": 2,
   "metadata": {},
   "outputs": [],
   "source": [
    " # Before running...data for 22h and 23h was added to the last excel file to make sure it has the same length as other files that are in the middle. \n",
    "cwd = os.path.abspath(r'D:\\Weather_files\\CORDEX_weather_data\\MPI_REMO') \n",
    "files = os.listdir(cwd)"
   ]
  },
  {
   "cell_type": "code",
   "execution_count": 3,
   "metadata": {},
   "outputs": [
    {
     "data": {
      "text/html": [
       "<div>\n",
       "<style scoped>\n",
       "    .dataframe tbody tr th:only-of-type {\n",
       "        vertical-align: middle;\n",
       "    }\n",
       "\n",
       "    .dataframe tbody tr th {\n",
       "        vertical-align: top;\n",
       "    }\n",
       "\n",
       "    .dataframe thead th {\n",
       "        text-align: right;\n",
       "    }\n",
       "</style>\n",
       "<table border=\"1\" class=\"dataframe\">\n",
       "  <thead>\n",
       "    <tr style=\"text-align: right;\">\n",
       "      <th></th>\n",
       "      <th>DateTime</th>\n",
       "      <th>year</th>\n",
       "      <th>month</th>\n",
       "      <th>DB_Temp</th>\n",
       "      <th>DewPointTemperature</th>\n",
       "      <th>RelativeHumidity</th>\n",
       "      <th>WindSpeed</th>\n",
       "      <th>CloudCover</th>\n",
       "      <th>AtmosPressure</th>\n",
       "      <th>GHI</th>\n",
       "      <th>DNI</th>\n",
       "      <th>SolarZenith</th>\n",
       "      <th>DHI</th>\n",
       "    </tr>\n",
       "  </thead>\n",
       "  <tbody>\n",
       "    <tr>\n",
       "      <th>0</th>\n",
       "      <td>2040-01-01</td>\n",
       "      <td>2040</td>\n",
       "      <td>1</td>\n",
       "      <td>5.669122</td>\n",
       "      <td>3.03</td>\n",
       "      <td>83.110458</td>\n",
       "      <td>4.562614</td>\n",
       "      <td>87.410179</td>\n",
       "      <td>100824.1875</td>\n",
       "      <td>0.0</td>\n",
       "      <td>0.0</td>\n",
       "      <td>155.76</td>\n",
       "      <td>0.0</td>\n",
       "    </tr>\n",
       "  </tbody>\n",
       "</table>\n",
       "</div>"
      ],
      "text/plain": [
       "    DateTime  year  month   DB_Temp  DewPointTemperature  RelativeHumidity  \\\n",
       "0 2040-01-01  2040      1  5.669122                 3.03         83.110458   \n",
       "\n",
       "   WindSpeed  CloudCover  AtmosPressure  GHI  DNI  SolarZenith  DHI  \n",
       "0   4.562614   87.410179    100824.1875  0.0  0.0       155.76  0.0  "
      ]
     },
     "execution_count": 3,
     "metadata": {},
     "output_type": "execute_result"
    }
   ],
   "source": [
    "df = pd.DataFrame()\n",
    "for file in files:\n",
    "    if file.endswith('.xlsx'):\n",
    "        df = df.append(pd.read_excel('D:/Weather_files/CORDEX_weather_data/MPI_REMO/'+file), ignore_index=True) \n",
    "df.head(1)"
   ]
  },
  {
   "cell_type": "code",
   "execution_count": 4,
   "metadata": {},
   "outputs": [],
   "source": [
    "# Because of three hour intervals and previous interpolations that covered the inner rows \n",
    "# two hours of data at 22h and 23h at the end of each year is missing. ffill is used to fill 2 nan cells for a year\n",
    "df=df.set_index('DateTime').resample('H').last()\n",
    "df = df.fillna(method='ffill')\n",
    "# Removing leap day data if year is a leap year \n",
    "df = df[~((df.index.month == 2) & (df.index.day == 29))]\n",
    "# Changing data type \n",
    "df = df.astype({\"year\":'int', \"month\":'int'})"
   ]
  },
  {
   "cell_type": "code",
   "execution_count": 53,
   "metadata": {},
   "outputs": [
    {
     "data": {
      "text/html": [
       "<div>\n",
       "<style scoped>\n",
       "    .dataframe tbody tr th:only-of-type {\n",
       "        vertical-align: middle;\n",
       "    }\n",
       "\n",
       "    .dataframe tbody tr th {\n",
       "        vertical-align: top;\n",
       "    }\n",
       "\n",
       "    .dataframe thead th {\n",
       "        text-align: right;\n",
       "    }\n",
       "</style>\n",
       "<table border=\"1\" class=\"dataframe\">\n",
       "  <thead>\n",
       "    <tr style=\"text-align: right;\">\n",
       "      <th></th>\n",
       "      <th>year</th>\n",
       "      <th>month</th>\n",
       "      <th>DB_Temp</th>\n",
       "      <th>DewPointTemperature</th>\n",
       "      <th>RelativeHumidity</th>\n",
       "      <th>WindSpeed</th>\n",
       "      <th>CloudCover</th>\n",
       "      <th>AtmosPressure</th>\n",
       "      <th>GHI</th>\n",
       "      <th>DNI</th>\n",
       "      <th>SolarZenith</th>\n",
       "      <th>DHI</th>\n",
       "    </tr>\n",
       "    <tr>\n",
       "      <th>DateTime</th>\n",
       "      <th></th>\n",
       "      <th></th>\n",
       "      <th></th>\n",
       "      <th></th>\n",
       "      <th></th>\n",
       "      <th></th>\n",
       "      <th></th>\n",
       "      <th></th>\n",
       "      <th></th>\n",
       "      <th></th>\n",
       "      <th></th>\n",
       "      <th></th>\n",
       "    </tr>\n",
       "  </thead>\n",
       "  <tbody>\n",
       "    <tr>\n",
       "      <th>2040-12-31 21:00:00</th>\n",
       "      <td>2040</td>\n",
       "      <td>12</td>\n",
       "      <td>8.466852</td>\n",
       "      <td>8.14</td>\n",
       "      <td>97.828827</td>\n",
       "      <td>2.687051</td>\n",
       "      <td>18.505352</td>\n",
       "      <td>101886.265625</td>\n",
       "      <td>0.0</td>\n",
       "      <td>0.0</td>\n",
       "      <td>135.23</td>\n",
       "      <td>0.0</td>\n",
       "    </tr>\n",
       "    <tr>\n",
       "      <th>2040-12-31 22:00:00</th>\n",
       "      <td>2040</td>\n",
       "      <td>12</td>\n",
       "      <td>8.466852</td>\n",
       "      <td>8.14</td>\n",
       "      <td>97.828827</td>\n",
       "      <td>2.687051</td>\n",
       "      <td>18.505352</td>\n",
       "      <td>101886.265625</td>\n",
       "      <td>0.0</td>\n",
       "      <td>0.0</td>\n",
       "      <td>135.23</td>\n",
       "      <td>0.0</td>\n",
       "    </tr>\n",
       "    <tr>\n",
       "      <th>2040-12-31 23:00:00</th>\n",
       "      <td>2040</td>\n",
       "      <td>12</td>\n",
       "      <td>8.466852</td>\n",
       "      <td>8.14</td>\n",
       "      <td>97.828827</td>\n",
       "      <td>2.687051</td>\n",
       "      <td>18.505352</td>\n",
       "      <td>101886.265625</td>\n",
       "      <td>0.0</td>\n",
       "      <td>0.0</td>\n",
       "      <td>135.23</td>\n",
       "      <td>0.0</td>\n",
       "    </tr>\n",
       "    <tr>\n",
       "      <th>2041-01-01 00:00:00</th>\n",
       "      <td>2041</td>\n",
       "      <td>1</td>\n",
       "      <td>10.870782</td>\n",
       "      <td>9.81</td>\n",
       "      <td>93.144684</td>\n",
       "      <td>4.460026</td>\n",
       "      <td>72.389999</td>\n",
       "      <td>101691.000000</td>\n",
       "      <td>0.0</td>\n",
       "      <td>0.0</td>\n",
       "      <td>155.70</td>\n",
       "      <td>0.0</td>\n",
       "    </tr>\n",
       "    <tr>\n",
       "      <th>2041-01-01 01:00:00</th>\n",
       "      <td>2041</td>\n",
       "      <td>1</td>\n",
       "      <td>14.041664</td>\n",
       "      <td>12.60</td>\n",
       "      <td>91.031720</td>\n",
       "      <td>4.644883</td>\n",
       "      <td>75.561045</td>\n",
       "      <td>101631.875000</td>\n",
       "      <td>0.0</td>\n",
       "      <td>0.0</td>\n",
       "      <td>153.75</td>\n",
       "      <td>0.0</td>\n",
       "    </tr>\n",
       "  </tbody>\n",
       "</table>\n",
       "</div>"
      ],
      "text/plain": [
       "                     year  month    DB_Temp  DewPointTemperature  \\\n",
       "DateTime                                                           \n",
       "2040-12-31 21:00:00  2040     12   8.466852                 8.14   \n",
       "2040-12-31 22:00:00  2040     12   8.466852                 8.14   \n",
       "2040-12-31 23:00:00  2040     12   8.466852                 8.14   \n",
       "2041-01-01 00:00:00  2041      1  10.870782                 9.81   \n",
       "2041-01-01 01:00:00  2041      1  14.041664                12.60   \n",
       "\n",
       "                     RelativeHumidity  WindSpeed  CloudCover  AtmosPressure  \\\n",
       "DateTime                                                                      \n",
       "2040-12-31 21:00:00         97.828827   2.687051   18.505352  101886.265625   \n",
       "2040-12-31 22:00:00         97.828827   2.687051   18.505352  101886.265625   \n",
       "2040-12-31 23:00:00         97.828827   2.687051   18.505352  101886.265625   \n",
       "2041-01-01 00:00:00         93.144684   4.460026   72.389999  101691.000000   \n",
       "2041-01-01 01:00:00         91.031720   4.644883   75.561045  101631.875000   \n",
       "\n",
       "                     GHI  DNI  SolarZenith  DHI  \n",
       "DateTime                                         \n",
       "2040-12-31 21:00:00  0.0  0.0       135.23  0.0  \n",
       "2040-12-31 22:00:00  0.0  0.0       135.23  0.0  \n",
       "2040-12-31 23:00:00  0.0  0.0       135.23  0.0  \n",
       "2041-01-01 00:00:00  0.0  0.0       155.70  0.0  \n",
       "2041-01-01 01:00:00  0.0  0.0       153.75  0.0  "
      ]
     },
     "execution_count": 53,
     "metadata": {},
     "output_type": "execute_result"
    }
   ],
   "source": [
    "# Seeing if joining datafiles have been done properly\n",
    "df.iloc[8757:8762]"
   ]
  },
  {
   "cell_type": "code",
   "execution_count": 6,
   "metadata": {},
   "outputs": [
    {
     "name": "stdout",
     "output_type": "stream",
     "text": [
      "<class 'pandas.core.frame.DataFrame'>\n",
      "DatetimeIndex: 271558 entries, 2040-01-01 00:00:00 to 2070-12-31 21:00:00\n",
      "Data columns (total 12 columns):\n",
      "year                   271558 non-null int32\n",
      "month                  271558 non-null int32\n",
      "DB_Temp                271558 non-null float64\n",
      "DewPointTemperature    271558 non-null float64\n",
      "RelativeHumidity       271558 non-null float64\n",
      "WindSpeed              271558 non-null float64\n",
      "CloudCover             271558 non-null float64\n",
      "AtmosPressure          271558 non-null float64\n",
      "GHI                    271558 non-null float64\n",
      "DNI                    271558 non-null float64\n",
      "SolarZenith            271558 non-null float64\n",
      "DHI                    271558 non-null float64\n",
      "dtypes: float64(10), int32(2)\n",
      "memory usage: 24.9 MB\n"
     ]
    }
   ],
   "source": [
    "# Average value of each variable \n",
    "df.info()"
   ]
  },
  {
   "cell_type": "markdown",
   "metadata": {},
   "source": [
    "#### Calculating daily means"
   ]
  },
  {
   "cell_type": "code",
   "execution_count": 7,
   "metadata": {},
   "outputs": [],
   "source": [
    "# For each climatic parameter p : (dry bulb temperature, humidity ratio, GHI) perform the following operatios\n",
    "# Resampling to calcualte daily means (p^-) of the given parameters (DBT,DPT,WSP,GHI)\n",
    "df_daily = df.resample('D').mean()"
   ]
  },
  {
   "cell_type": "code",
   "execution_count": 8,
   "metadata": {},
   "outputs": [
    {
     "data": {
      "text/html": [
       "<div>\n",
       "<style scoped>\n",
       "    .dataframe tbody tr th:only-of-type {\n",
       "        vertical-align: middle;\n",
       "    }\n",
       "\n",
       "    .dataframe tbody tr th {\n",
       "        vertical-align: top;\n",
       "    }\n",
       "\n",
       "    .dataframe thead th {\n",
       "        text-align: right;\n",
       "    }\n",
       "</style>\n",
       "<table border=\"1\" class=\"dataframe\">\n",
       "  <thead>\n",
       "    <tr style=\"text-align: right;\">\n",
       "      <th></th>\n",
       "      <th>DB_Temp</th>\n",
       "      <th>DewPointTemperature</th>\n",
       "      <th>RelativeHumidity</th>\n",
       "      <th>WindSpeed</th>\n",
       "      <th>GHI</th>\n",
       "      <th>DNI</th>\n",
       "    </tr>\n",
       "    <tr>\n",
       "      <th>DateTime</th>\n",
       "      <th></th>\n",
       "      <th></th>\n",
       "      <th></th>\n",
       "      <th></th>\n",
       "      <th></th>\n",
       "      <th></th>\n",
       "    </tr>\n",
       "  </thead>\n",
       "  <tbody>\n",
       "    <tr>\n",
       "      <th>2040-01-01</th>\n",
       "      <td>9.025214</td>\n",
       "      <td>6.305</td>\n",
       "      <td>83.100938</td>\n",
       "      <td>6.126465</td>\n",
       "      <td>7.808098</td>\n",
       "      <td>0.372917</td>\n",
       "    </tr>\n",
       "    <tr>\n",
       "      <th>2040-01-02</th>\n",
       "      <td>8.077459</td>\n",
       "      <td>4.975</td>\n",
       "      <td>80.829152</td>\n",
       "      <td>5.217163</td>\n",
       "      <td>15.170530</td>\n",
       "      <td>2.211250</td>\n",
       "    </tr>\n",
       "  </tbody>\n",
       "</table>\n",
       "</div>"
      ],
      "text/plain": [
       "             DB_Temp  DewPointTemperature  RelativeHumidity  WindSpeed  \\\n",
       "DateTime                                                                 \n",
       "2040-01-01  9.025214                6.305         83.100938   6.126465   \n",
       "2040-01-02  8.077459                4.975         80.829152   5.217163   \n",
       "\n",
       "                  GHI       DNI  \n",
       "DateTime                         \n",
       "2040-01-01   7.808098  0.372917  \n",
       "2040-01-02  15.170530  2.211250  "
      ]
     },
     "execution_count": 8,
     "metadata": {},
     "output_type": "execute_result"
    }
   ],
   "source": [
    "new_columns = ['DB_Temp','DewPointTemperature','RelativeHumidity', 'WindSpeed','GHI','DNI']\n",
    "df_daily = df_daily[new_columns]\n",
    "df_daily.head(2)"
   ]
  },
  {
   "cell_type": "code",
   "execution_count": 9,
   "metadata": {},
   "outputs": [
    {
     "name": "stdout",
     "output_type": "stream",
     "text": [
      "<class 'pandas.core.frame.DataFrame'>\n",
      "DatetimeIndex: 11323 entries, 2040-01-01 to 2070-12-31\n",
      "Freq: D\n",
      "Data columns (total 6 columns):\n",
      "DB_Temp                11315 non-null float64\n",
      "DewPointTemperature    11315 non-null float64\n",
      "RelativeHumidity       11315 non-null float64\n",
      "WindSpeed              11315 non-null float64\n",
      "GHI                    11315 non-null float64\n",
      "DNI                    11315 non-null float64\n",
      "dtypes: float64(6)\n",
      "memory usage: 619.2 KB\n"
     ]
    }
   ],
   "source": [
    "df_daily.info()"
   ]
  },
  {
   "cell_type": "code",
   "execution_count": 10,
   "metadata": {},
   "outputs": [],
   "source": [
    "import numpy as np\n",
    "import scipy\n",
    "import matplotlib.pyplot as plt\n",
    "import seaborn as sns"
   ]
  },
  {
   "cell_type": "code",
   "execution_count": 11,
   "metadata": {},
   "outputs": [],
   "source": [
    "# Months dictionary \n",
    "monthDict = {1:'Jan',2:'Feb',3:'Mar',4:'Apr',5:'May',6:'Jun',\n",
    "             7:'Jul',8:'Aug',9:'Sep',10:'Oct',11:'Nov',12:'Dec'}"
   ]
  },
  {
   "cell_type": "code",
   "execution_count": 12,
   "metadata": {},
   "outputs": [],
   "source": [
    "# A Dataframe to write out results \n",
    "AllYears = np.arange(df_daily.index[0].year,df_daily.index[len(df_daily.index)-1].year+1,1).tolist()\n",
    "All_df = pd.DataFrame(index=AllYears)"
   ]
  },
  {
   "cell_type": "markdown",
   "metadata": {},
   "source": [
    "#### Calculating FS statistics for DB Temp, RH, and GHI, plus mean wind speed deviation for each year to multiyear."
   ]
  },
  {
   "cell_type": "code",
   "execution_count": 13,
   "metadata": {},
   "outputs": [],
   "source": [
    "for Month in [1,2,3,4,5,6,7,8,9,10,11,12]:\n",
    "    tempe = []\n",
    "    RelHu = []\n",
    "    HGIrr = []\n",
    "    WindS = []\n",
    "    for Year in AllYears:\n",
    "        #### Temperature\n",
    "        y = df_daily[(df_daily.index.month == Month)].DB_Temp.values\n",
    "        y = y[~np.isnan(y)]\n",
    "        h, b = np.histogram(y, bins=100, density=True)\n",
    "        cdf = np.cumsum(h*np.diff(b))\n",
    "        #\n",
    "        y1 = df_daily[((df_daily.index.month == Month) & (df_daily.index.year == Year))].DB_Temp.values\n",
    "        y1 = y1[~np.isnan(y1)]\n",
    "        h1, b1 = np.histogram(y1, bins=100, density=True)\n",
    "        cdf1 = np.cumsum(h1*np.diff(b1))\n",
    "        ## Finkelstien-Schafar Statistics\n",
    "        ts = np.sum(abs(cdf - cdf1))\n",
    "        tempe.append(ts)\n",
    "    \n",
    "        #### Relative humidity \n",
    "        x = df_daily[(df_daily.index.month == Month)].RelativeHumidity.values\n",
    "        x = x[~np.isnan(x)]\n",
    "        j, a = np.histogram(x, bins=100, density=True)\n",
    "        cdfRH = np.cumsum(j*np.diff(a))\n",
    "        #\n",
    "        x1 = df_daily[((df_daily.index.month == Month) & (df_daily.index.year == Year))].RelativeHumidity.values\n",
    "        x1 = x1[~np.isnan(x1)]\n",
    "        j1, a1 = np.histogram(x1, bins=100, density=True)\n",
    "        cdfRH1 = np.cumsum(j1*np.diff(a1))\n",
    "        ## Finkelstien-Schafar Statistics\n",
    "        rs = np.sum(abs(cdfRH - cdfRH1))\n",
    "        RelHu.append(rs)\n",
    "    \n",
    "        ####Global horizontal irradiance\n",
    "        z = df_daily[(df_daily.index.month == Month)].GHI.values\n",
    "        z = z[~np.isnan(z)]\n",
    "        k, s = np.histogram(z, bins=100, density=True)\n",
    "        cdfGHI = np.cumsum(k*np.diff(s))\n",
    "        #\n",
    "        z1 = df_daily[((df_daily.index.month == Month) & (df_daily.index.year == Year))].GHI.values\n",
    "        z1 = z1[~np.isnan(z1)]\n",
    "        k1, s1 = np.histogram(z1, bins=100, density=True)\n",
    "        cdfGHI1 = np.cumsum(k1*np.diff(s1))\n",
    "        ## Finkelstien-Schafar Statistics\n",
    "        hs = np.sum(abs(cdfGHI - cdfGHI1))\n",
    "        HGIrr.append(hs)\n",
    "    \n",
    "        #### Deviation of month's mean wind speed for a year from multiyear mean\n",
    "        w = df_daily[(df_daily.index.month == Month)].WindSpeed.values\n",
    "        w = w[~np.isnan(w)]\n",
    "        WS = sum(w)/len(w)\n",
    "        #\n",
    "        w1 = df_daily[((df_daily.index.month == Month) & (df_daily.index.year == Year))].WindSpeed.values\n",
    "        w1 = w1[~np.isnan(w1)]\n",
    "        WS1 = sum(w1)/len(w1)\n",
    "        ## Deviation of means \n",
    "        ws = abs(WS - WS1)\n",
    "        WindS.append(ws)\n",
    "        ###\n",
    "    \n",
    "    All_df['DBT_'+str(monthDict[Month])]=tempe\n",
    "    All_df['RH_'+str(monthDict[Month])]=RelHu\n",
    "    All_df['GHI_'+str(monthDict[Month])]=HGIrr\n",
    "    All_df['WS_'+str(monthDict[Month])]=WindS"
   ]
  },
  {
   "cell_type": "code",
   "execution_count": 14,
   "metadata": {},
   "outputs": [
    {
     "data": {
      "text/html": [
       "<div>\n",
       "<style scoped>\n",
       "    .dataframe tbody tr th:only-of-type {\n",
       "        vertical-align: middle;\n",
       "    }\n",
       "\n",
       "    .dataframe tbody tr th {\n",
       "        vertical-align: top;\n",
       "    }\n",
       "\n",
       "    .dataframe thead th {\n",
       "        text-align: right;\n",
       "    }\n",
       "</style>\n",
       "<table border=\"1\" class=\"dataframe\">\n",
       "  <thead>\n",
       "    <tr style=\"text-align: right;\">\n",
       "      <th></th>\n",
       "      <th>DBT_Jan</th>\n",
       "      <th>RH_Jan</th>\n",
       "      <th>GHI_Jan</th>\n",
       "      <th>WS_Jan</th>\n",
       "      <th>DBT_Feb</th>\n",
       "      <th>RH_Feb</th>\n",
       "      <th>GHI_Feb</th>\n",
       "      <th>WS_Feb</th>\n",
       "      <th>DBT_Mar</th>\n",
       "      <th>RH_Mar</th>\n",
       "      <th>...</th>\n",
       "      <th>GHI_Oct</th>\n",
       "      <th>WS_Oct</th>\n",
       "      <th>DBT_Nov</th>\n",
       "      <th>RH_Nov</th>\n",
       "      <th>GHI_Nov</th>\n",
       "      <th>WS_Nov</th>\n",
       "      <th>DBT_Dec</th>\n",
       "      <th>RH_Dec</th>\n",
       "      <th>GHI_Dec</th>\n",
       "      <th>WS_Dec</th>\n",
       "    </tr>\n",
       "  </thead>\n",
       "  <tbody>\n",
       "    <tr>\n",
       "      <th>2040</th>\n",
       "      <td>11.308012</td>\n",
       "      <td>21.705515</td>\n",
       "      <td>9.312175</td>\n",
       "      <td>0.225798</td>\n",
       "      <td>10.269585</td>\n",
       "      <td>23.408986</td>\n",
       "      <td>7.342166</td>\n",
       "      <td>0.320906</td>\n",
       "      <td>6.113424</td>\n",
       "      <td>14.323621</td>\n",
       "      <td>...</td>\n",
       "      <td>10.753382</td>\n",
       "      <td>0.108384</td>\n",
       "      <td>11.365591</td>\n",
       "      <td>11.608602</td>\n",
       "      <td>5.680645</td>\n",
       "      <td>0.056894</td>\n",
       "      <td>13.368366</td>\n",
       "      <td>14.869927</td>\n",
       "      <td>7.276795</td>\n",
       "      <td>0.364859</td>\n",
       "    </tr>\n",
       "    <tr>\n",
       "      <th>2041</th>\n",
       "      <td>11.310094</td>\n",
       "      <td>25.964620</td>\n",
       "      <td>4.329865</td>\n",
       "      <td>0.223447</td>\n",
       "      <td>16.417051</td>\n",
       "      <td>13.667051</td>\n",
       "      <td>9.213134</td>\n",
       "      <td>0.104302</td>\n",
       "      <td>10.490114</td>\n",
       "      <td>15.064516</td>\n",
       "      <td>...</td>\n",
       "      <td>10.876171</td>\n",
       "      <td>0.210872</td>\n",
       "      <td>25.659140</td>\n",
       "      <td>10.037634</td>\n",
       "      <td>5.696774</td>\n",
       "      <td>0.572617</td>\n",
       "      <td>5.711759</td>\n",
       "      <td>15.937565</td>\n",
       "      <td>4.519251</td>\n",
       "      <td>0.743313</td>\n",
       "    </tr>\n",
       "  </tbody>\n",
       "</table>\n",
       "<p>2 rows × 48 columns</p>\n",
       "</div>"
      ],
      "text/plain": [
       "        DBT_Jan     RH_Jan   GHI_Jan    WS_Jan    DBT_Feb     RH_Feb  \\\n",
       "2040  11.308012  21.705515  9.312175  0.225798  10.269585  23.408986   \n",
       "2041  11.310094  25.964620  4.329865  0.223447  16.417051  13.667051   \n",
       "\n",
       "       GHI_Feb    WS_Feb    DBT_Mar     RH_Mar  ...    GHI_Oct    WS_Oct  \\\n",
       "2040  7.342166  0.320906   6.113424  14.323621  ...  10.753382  0.108384   \n",
       "2041  9.213134  0.104302  10.490114  15.064516  ...  10.876171  0.210872   \n",
       "\n",
       "        DBT_Nov     RH_Nov   GHI_Nov    WS_Nov    DBT_Dec     RH_Dec  \\\n",
       "2040  11.365591  11.608602  5.680645  0.056894  13.368366  14.869927   \n",
       "2041  25.659140  10.037634  5.696774  0.572617   5.711759  15.937565   \n",
       "\n",
       "       GHI_Dec    WS_Dec  \n",
       "2040  7.276795  0.364859  \n",
       "2041  4.519251  0.743313  \n",
       "\n",
       "[2 rows x 48 columns]"
      ]
     },
     "execution_count": 14,
     "metadata": {},
     "output_type": "execute_result"
    }
   ],
   "source": [
    "All_df.head(2)"
   ]
  },
  {
   "cell_type": "markdown",
   "metadata": {},
   "source": [
    "#### Ranking and selecting the best year for each month"
   ]
  },
  {
   "cell_type": "code",
   "execution_count": 15,
   "metadata": {},
   "outputs": [],
   "source": [
    "##Ranking dry bulb temperature\n",
    "All_df['R_DBT_Jan']=All_df['DBT_Jan'].rank(ascending=True)\n",
    "All_df['R_DBT_Feb']=All_df['DBT_Feb'].rank(ascending=True)\n",
    "All_df['R_DBT_Mar']=All_df['DBT_Mar'].rank(ascending=True)\n",
    "All_df['R_DBT_Apr']=All_df['DBT_Apr'].rank(ascending=True)\n",
    "All_df['R_DBT_May']=All_df['DBT_May'].rank(ascending=True)\n",
    "All_df['R_DBT_Jun']=All_df['DBT_Jun'].rank(ascending=True)\n",
    "All_df['R_DBT_Jul']=All_df['DBT_Jul'].rank(ascending=True)\n",
    "All_df['R_DBT_Aug']=All_df['DBT_Aug'].rank(ascending=True)\n",
    "All_df['R_DBT_Sep']=All_df['DBT_Sep'].rank(ascending=True)\n",
    "All_df['R_DBT_Oct']=All_df['DBT_Oct'].rank(ascending=True)\n",
    "All_df['R_DBT_Nov']=All_df['DBT_Nov'].rank(ascending=True)\n",
    "All_df['R_DBT_Dec']=All_df['DBT_Dec'].rank(ascending=True)\n",
    "##ranking relative humidity \n",
    "All_df['R_RH_Jan']=All_df['RH_Jan'].rank(ascending=True)\n",
    "All_df['R_RH_Feb']=All_df['RH_Feb'].rank(ascending=True)\n",
    "All_df['R_RH_Mar']=All_df['RH_Mar'].rank(ascending=True)\n",
    "All_df['R_RH_Apr']=All_df['RH_Apr'].rank(ascending=True)\n",
    "All_df['R_RH_May']=All_df['RH_May'].rank(ascending=True)\n",
    "All_df['R_RH_Jun']=All_df['RH_Jun'].rank(ascending=True)\n",
    "All_df['R_RH_Jul']=All_df['RH_Jul'].rank(ascending=True)\n",
    "All_df['R_RH_Aug']=All_df['RH_Aug'].rank(ascending=True)\n",
    "All_df['R_RH_Sep']=All_df['RH_Sep'].rank(ascending=True)\n",
    "All_df['R_RH_Oct']=All_df['RH_Oct'].rank(ascending=True)\n",
    "All_df['R_RH_Nov']=All_df['RH_Nov'].rank(ascending=True)\n",
    "All_df['R_RH_Dec']=All_df['RH_Dec'].rank(ascending=True)\n",
    "##ranking global horizontal irradiance\n",
    "All_df['R_GHI_Jan']=All_df['GHI_Jan'].rank(ascending=True)\n",
    "All_df['R_GHI_Feb']=All_df['GHI_Feb'].rank(ascending=True)\n",
    "All_df['R_GHI_Mar']=All_df['GHI_Mar'].rank(ascending=True)\n",
    "All_df['R_GHI_Apr']=All_df['GHI_Apr'].rank(ascending=True)\n",
    "All_df['R_GHI_May']=All_df['GHI_May'].rank(ascending=True)\n",
    "All_df['R_GHI_Jun']=All_df['GHI_Jun'].rank(ascending=True)\n",
    "All_df['R_GHI_Jul']=All_df['GHI_Jul'].rank(ascending=True)\n",
    "All_df['R_GHI_Aug']=All_df['GHI_Aug'].rank(ascending=True)\n",
    "All_df['R_GHI_Sep']=All_df['GHI_Sep'].rank(ascending=True)\n",
    "All_df['R_GHI_Oct']=All_df['GHI_Oct'].rank(ascending=True)\n",
    "All_df['R_GHI_Nov']=All_df['GHI_Nov'].rank(ascending=True)\n",
    "All_df['R_GHI_Dec']=All_df['GHI_Dec'].rank(ascending=True)"
   ]
  },
  {
   "cell_type": "code",
   "execution_count": 16,
   "metadata": {},
   "outputs": [],
   "source": [
    "### Sum the FS value of three primary variables (DBT,RH,GHI) for each month\n",
    "\n",
    "All_df['January']=All_df['R_DBT_Jan']+ All_df['R_RH_Jan']+ All_df['R_GHI_Jan']\n",
    "All_df['February']=All_df['R_DBT_Feb']+ All_df['R_RH_Feb']+ All_df['R_GHI_Feb']\n",
    "All_df['March']=All_df['R_DBT_Mar']+ All_df['R_RH_Mar']+ All_df['R_GHI_Mar']\n",
    "All_df['April']=All_df['R_DBT_Apr']+ All_df['R_RH_Apr']+ All_df['R_GHI_Apr']\n",
    "All_df['MAY']=All_df['R_DBT_May']+ All_df['R_RH_May']+ All_df['R_GHI_May']\n",
    "All_df['June']=All_df['R_DBT_Jun']+ All_df['R_RH_Jun']+ All_df['R_GHI_Jun']\n",
    "All_df['July']=All_df['R_DBT_Jul']+ All_df['R_RH_Jul']+ All_df['R_GHI_Jul']\n",
    "All_df['August']=All_df['R_DBT_Aug']+ All_df['R_RH_Aug']+ All_df['R_GHI_Aug']\n",
    "All_df['September']=All_df['R_DBT_Sep']+ All_df['R_RH_Sep']+ All_df['R_GHI_Sep']\n",
    "All_df['October']=All_df['R_DBT_Oct']+ All_df['R_RH_Oct']+ All_df['R_GHI_Oct']\n",
    "All_df['November']=All_df['R_DBT_Nov']+ All_df['R_RH_Nov']+ All_df['R_GHI_Nov']\n",
    "All_df['December']=All_df['R_DBT_Dec']+ All_df['R_RH_Dec']+ All_df['R_GHI_Dec']\n",
    "\n",
    "## Rank order the sum total of variables to identify three lowest sizes \n",
    "All_df['Jan']=All_df['January'].rank(method='first',ascending=True)\n",
    "All_df['Feb']=All_df['February'].rank(method='first',ascending=True)\n",
    "All_df['Mar']=All_df['March'].rank(method='first',ascending=True)\n",
    "All_df['Apr']=All_df['April'].rank(method='first',ascending=True)\n",
    "All_df['May']=All_df['MAY'].rank(method='first',ascending=True)\n",
    "All_df['Jun']=All_df['June'].rank(method='first',ascending=True)\n",
    "All_df['Jul']=All_df['July'].rank(method='first',ascending=True)\n",
    "All_df['Aug']=All_df['August'].rank(method='first',ascending=True)\n",
    "All_df['Sep']=All_df['September'].rank(method='first',ascending=True)\n",
    "All_df['Oct']=All_df['October'].rank(method='first',ascending=True)\n",
    "All_df['Nov']=All_df['November'].rank(method='first',ascending=True)\n",
    "All_df['Dec']=All_df['December'].rank(method='first',ascending=True)"
   ]
  },
  {
   "cell_type": "code",
   "execution_count": 17,
   "metadata": {},
   "outputs": [],
   "source": [
    "#colmn = All_df.columns.tolist()\n",
    "#print (colmn)"
   ]
  },
  {
   "cell_type": "code",
   "execution_count": 18,
   "metadata": {},
   "outputs": [],
   "source": [
    "all_columns = ['Jan','Feb','Mar','Apr','May','Jun','Jul','Aug','Sep',\n",
    "               'Oct','Nov','Dec','WS_Jan','WS_Feb','WS_Mar','WS_Apr',\n",
    "               'WS_May','WS_Jun','WS_Jul','WS_Aug','WS_Sep',\n",
    "               'WS_Oct','WS_Nov','WS_Dec']\n",
    "df_MS = All_df[all_columns]"
   ]
  },
  {
   "cell_type": "code",
   "execution_count": 19,
   "metadata": {},
   "outputs": [],
   "source": [
    "### Selecting year of TMY for eaxh month \n",
    "January = df_MS.index[df_MS['WS_Jan']==min(df_MS['WS_Jan']\n",
    "                                           .loc[df_MS.index.isin(df_MS.index[df_MS['Jan']<4]\n",
    "                                                                 .tolist())])].values[0]\n",
    "February = df_MS.index[df_MS['WS_Feb']==min(df_MS['WS_Feb']\n",
    "                                            .loc[df_MS.index.isin(df_MS.index[df_MS['Feb']<4]\n",
    "                                                                  .tolist())])].values[0]\n",
    "March = df_MS.index[df_MS['WS_Mar']==min(df_MS['WS_Mar']\n",
    "                                         .loc[df_MS.index.isin(df_MS.index[df_MS['Mar']<4]\n",
    "                                                               .tolist())])].values[0]\n",
    "April = df_MS.index[df_MS['WS_Apr']==min(df_MS['WS_Apr']\n",
    "                                         .loc[df_MS.index.isin(df_MS.index[df_MS['Apr']<4]\n",
    "                                                               .tolist())])].values[0]\n",
    "May = df_MS.index[df_MS['WS_May']==min(df_MS['WS_May']\n",
    "                                       .loc[df_MS.index.isin(df_MS.index[df_MS['May']<4]\n",
    "                                                             .tolist())])].values[0]\n",
    "June = df_MS.index[df_MS['WS_Jun']==min(df_MS['WS_Jun']\n",
    "                                        .loc[df_MS.index.isin(df_MS.index[df_MS['Jun']<4]\n",
    "                                                              .tolist())])].values[0]\n",
    "July = df_MS.index[df_MS['WS_Jul']==min(df_MS['WS_Jul']\n",
    "                                        .loc[df_MS.index.isin(df_MS.index[df_MS['Jul']<4]\n",
    "                                                              .tolist())])].values[0]\n",
    "August = df_MS.index[df_MS['WS_Aug']==min(df_MS['WS_Aug']\n",
    "                                          .loc[df_MS.index.isin(df_MS.index[df_MS['Aug']<4]\n",
    "                                                                .tolist())])].values[0]\n",
    "September = df_MS.index[df_MS['WS_Sep']==min(df_MS['WS_Sep']\n",
    "                                             .loc[df_MS.index.isin(df_MS.index[df_MS['Sep']<4]\n",
    "                                                                   .tolist())])].values[0]\n",
    "October = df_MS.index[df_MS['WS_Oct']==min(df_MS['WS_Oct']\n",
    "                                           .loc[df_MS.index.isin(df_MS.index[df_MS['Oct']<4]\n",
    "                                                                 .tolist())])].values[0]\n",
    "November = df_MS.index[df_MS['WS_Nov']==min(df_MS['WS_Nov']\n",
    "                                            .loc[df_MS.index.isin(df_MS.index[df_MS['Nov']<4]\n",
    "                                                                  .tolist())])].values[0]\n",
    "December = df_MS.index[df_MS['WS_Dec']==min(df_MS['WS_Dec']\n",
    "                                            .loc[df_MS.index.isin(df_MS.index[df_MS['Dec']<4]\n",
    "                                                                  .tolist())])].values[0]"
   ]
  },
  {
   "cell_type": "code",
   "execution_count": 20,
   "metadata": {},
   "outputs": [
    {
     "name": "stdout",
     "output_type": "stream",
     "text": [
      "January = 2064\n",
      "February = 2068\n",
      "March = 2047\n",
      "April = 2051\n",
      "May = 2067\n",
      "June = 2042\n",
      "July = 2045\n",
      "August = 2060\n",
      "September = 2047\n",
      "October = 2048\n",
      "November = 2040\n",
      "December = 2065\n"
     ]
    }
   ],
   "source": [
    "print('January = '+str(January))\n",
    "print('February = '+str(February))\n",
    "print('March = '+str(March))\n",
    "print('April = '+str(April))\n",
    "print('May = '+str(May))\n",
    "print('June = '+str(June))\n",
    "print('July = '+str(July))\n",
    "print('August = '+str(August))\n",
    "print('September = '+str(September))\n",
    "print('October = '+str(October))\n",
    "print('November = '+str(November))\n",
    "print('December = '+str(December))"
   ]
  },
  {
   "cell_type": "code",
   "execution_count": 21,
   "metadata": {},
   "outputs": [],
   "source": [
    "import warnings\n",
    "warnings.filterwarnings(\"ignore\")"
   ]
  },
  {
   "cell_type": "markdown",
   "metadata": {},
   "source": [
    "#### Removing first and last 8 hours of data of each month and interpolating them linearly to smooth out transition"
   ]
  },
  {
   "cell_type": "code",
   "execution_count": 22,
   "metadata": {},
   "outputs": [],
   "source": [
    "#### \n",
    "df1 = df[((df.index.month == 1) & (df.index.year == January))]\n",
    "# last 7 hours of the month\n",
    "df1['DB_Temp'].iloc[-7:]=np.nan\n",
    "df1['CloudCover'].iloc[-7:]=np.nan\n",
    "df1['WindSpeed'].iloc[-7:]=np.nan\n",
    "df1['RelativeHumidity'].iloc[-7:]=np.nan\n",
    "df1['DewPointTemperature'].iloc[-7:]=np.nan\n",
    "######\n",
    "df2 = df[((df.index.month == 2) & (df.index.year == February))]\n",
    "# first 8 hours of the month\n",
    "df2['DB_Temp'].iloc[:7]=np.nan\n",
    "df2['CloudCover'].iloc[:7]=np.nan\n",
    "df2['WindSpeed'].iloc[:7]=np.nan\n",
    "df2['RelativeHumidity'].iloc[:7]=np.nan\n",
    "df2['DewPointTemperature'].iloc[:7]=np.nan\n",
    "# last 8 hours of the month\n",
    "df2['DB_Temp'].iloc[-7:]=np.nan\n",
    "df2['CloudCover'].iloc[-7:]=np.nan\n",
    "df2['WindSpeed'].iloc[-7:]=np.nan\n",
    "df2['RelativeHumidity'].iloc[-7:]=np.nan\n",
    "df2['DewPointTemperature'].iloc[-7:]=np.nan\n",
    "######\n",
    "df3 = df[((df.index.month == 3) & (df.index.year == March))]\n",
    "# first 8 hours of the month\n",
    "df3['DB_Temp'].iloc[:7]=np.nan\n",
    "df3['CloudCover'].iloc[:7]=np.nan\n",
    "df3['WindSpeed'].iloc[:7]=np.nan\n",
    "df3['RelativeHumidity'].iloc[:7]=np.nan\n",
    "df3['DewPointTemperature'].iloc[:7]=np.nan\n",
    "# last 8 hours of the month \n",
    "df3['DB_Temp'].iloc[-7:]=np.nan\n",
    "df3['CloudCover'].iloc[-7:]=np.nan\n",
    "df3['WindSpeed'].iloc[-7:]=np.nan\n",
    "df3['RelativeHumidity'].iloc[-7:]=np.nan\n",
    "df3['DewPointTemperature'].iloc[-7:]=np.nan\n",
    "######\n",
    "df4 = df[((df.index.month == 4) & (df.index.year == April))]\n",
    "# first 8 hours of the month\n",
    "df4['DB_Temp'].iloc[:7]=np.nan\n",
    "df4['CloudCover'].iloc[:7]=np.nan\n",
    "df4['WindSpeed'].iloc[:7]=np.nan\n",
    "df4['RelativeHumidity'].iloc[:7]=np.nan\n",
    "df4['DewPointTemperature'].iloc[:7]=np.nan\n",
    "# last 8 hours of the month \n",
    "df4['DB_Temp'].iloc[-7:]=np.nan\n",
    "df4['CloudCover'].iloc[-7:]=np.nan\n",
    "df4['WindSpeed'].iloc[-7:]=np.nan\n",
    "df4['RelativeHumidity'].iloc[-7:]=np.nan\n",
    "df4['DewPointTemperature'].iloc[-7:]=np.nan\n",
    "######\n",
    "df5 = df[((df.index.month == 5) & (df.index.year == May))]\n",
    "# first 8 hours of the month\n",
    "df5['DB_Temp'].iloc[:7]=np.nan\n",
    "df5['CloudCover'].iloc[:7]=np.nan\n",
    "df5['WindSpeed'].iloc[:7]=np.nan\n",
    "df5['RelativeHumidity'].iloc[:7]=np.nan\n",
    "df5['DewPointTemperature'].iloc[:7]=np.nan\n",
    "# last 8 hours of the month \n",
    "df5['DB_Temp'].iloc[-7:]=np.nan\n",
    "df5['CloudCover'].iloc[-7:]=np.nan\n",
    "df5['WindSpeed'].iloc[-7:]=np.nan\n",
    "df5['RelativeHumidity'].iloc[-7:]=np.nan\n",
    "df5['DewPointTemperature'].iloc[-7:]=np.nan\n",
    "######\n",
    "df6 = df[((df.index.month == 6) & (df.index.year == June))]\n",
    "# first 8 hours of the month\n",
    "df6['DB_Temp'].iloc[:7]=np.nan\n",
    "df6['CloudCover'].iloc[:7]=np.nan\n",
    "df6['WindSpeed'].iloc[:7]=np.nan\n",
    "df6['RelativeHumidity'].iloc[:7]=np.nan\n",
    "df6['DewPointTemperature'].iloc[:7]=np.nan\n",
    "# last 8 hours of the month \n",
    "df6['DB_Temp'].iloc[-7:]=np.nan\n",
    "df6['CloudCover'].iloc[-7:]=np.nan\n",
    "df6['WindSpeed'].iloc[-7:]=np.nan\n",
    "df6['RelativeHumidity'].iloc[-7:]=np.nan\n",
    "df6['DewPointTemperature'].iloc[-7:]=np.nan\n",
    "######\n",
    "df7 = df[((df.index.month == 7) & (df.index.year == July))]\n",
    "# first 8 hours of the month\n",
    "df7['DB_Temp'].iloc[:7]=np.nan\n",
    "df7['CloudCover'].iloc[:7]=np.nan\n",
    "df7['WindSpeed'].iloc[:7]=np.nan\n",
    "df7['RelativeHumidity'].iloc[:7]=np.nan\n",
    "df7['DewPointTemperature'].iloc[:7]=np.nan\n",
    "# last 8 hours of the month \n",
    "df7['DB_Temp'].iloc[-7:]=np.nan\n",
    "df7['CloudCover'].iloc[-7:]=np.nan\n",
    "df7['WindSpeed'].iloc[-7:]=np.nan\n",
    "df7['RelativeHumidity'].iloc[-7:]=np.nan\n",
    "df7['DewPointTemperature'].iloc[-7:]=np.nan\n",
    "######\n",
    "df8 = df[((df.index.month == 8) & (df.index.year == August))]\n",
    "# first 8 hours of the month\n",
    "df8['DB_Temp'].iloc[:7]=np.nan\n",
    "df8['CloudCover'].iloc[:7]=np.nan\n",
    "df8['WindSpeed'].iloc[:7]=np.nan\n",
    "df8['RelativeHumidity'].iloc[:7]=np.nan\n",
    "df8['DewPointTemperature'].iloc[:7]=np.nan\n",
    "# last 8 hours of the month \n",
    "df8['DB_Temp'].iloc[-7:]=np.nan\n",
    "df8['CloudCover'].iloc[-7:]=np.nan\n",
    "df8['WindSpeed'].iloc[-7:]=np.nan\n",
    "df8['RelativeHumidity'].iloc[-7:]=np.nan\n",
    "df8['DewPointTemperature'].iloc[-7:]=np.nan\n",
    "######\n",
    "df9 = df[((df.index.month == 9) & (df.index.year == September))]\n",
    "# first 8 hours of the month\n",
    "df9['DB_Temp'].iloc[:7]=np.nan\n",
    "df9['CloudCover'].iloc[:7]=np.nan\n",
    "df9['WindSpeed'].iloc[:7]=np.nan\n",
    "df9['RelativeHumidity'].iloc[:7]=np.nan\n",
    "df9['DewPointTemperature'].iloc[:7]=np.nan\n",
    "# last 8 hours of the month \n",
    "df9['DB_Temp'].iloc[-7:]=np.nan\n",
    "df9['CloudCover'].iloc[-7:]=np.nan\n",
    "df9['WindSpeed'].iloc[-7:]=np.nan\n",
    "df9['RelativeHumidity'].iloc[-7:]=np.nan\n",
    "df9['DewPointTemperature'].iloc[-7:]=np.nan\n",
    "######\n",
    "df10 = df[((df.index.month == 10) & (df.index.year == October))]\n",
    "# first 8 hours of the month\n",
    "df10['DB_Temp'].iloc[:7]=np.nan\n",
    "df10['CloudCover'].iloc[:7]=np.nan\n",
    "df10['WindSpeed'].iloc[:7]=np.nan\n",
    "df10['RelativeHumidity'].iloc[:7]=np.nan\n",
    "df10['DewPointTemperature'].iloc[:7]=np.nan\n",
    "# last 8 hours of the month \n",
    "df10['DB_Temp'].iloc[-7:]=np.nan\n",
    "df10['CloudCover'].iloc[-7:]=np.nan\n",
    "df10['WindSpeed'].iloc[-7:]=np.nan\n",
    "df10['RelativeHumidity'].iloc[-7:]=np.nan\n",
    "df10['DewPointTemperature'].iloc[-7:]=np.nan\n",
    "######\n",
    "df11 = df[((df.index.month == 11) & (df.index.year == November))]\n",
    "# first 8 hours of the month\n",
    "df11['DB_Temp'].iloc[:7]=np.nan\n",
    "df11['CloudCover'].iloc[:7]=np.nan\n",
    "df11['WindSpeed'].iloc[:7]=np.nan\n",
    "df11['RelativeHumidity'].iloc[:7]=np.nan\n",
    "df11['DewPointTemperature'].iloc[:7]=np.nan\n",
    "# last 8 hours of the month \n",
    "df11['DB_Temp'].iloc[-7:]=np.nan\n",
    "df11['CloudCover'].iloc[-7:]=np.nan\n",
    "df11['WindSpeed'].iloc[-7:]=np.nan\n",
    "df11['RelativeHumidity'].iloc[-7:]=np.nan\n",
    "df11['DewPointTemperature'].iloc[-7:]=np.nan\n",
    "######\n",
    "df12 = df[((df.index.month == 12) & (df.index.year == December))]\n",
    "# first 8 hours of the month\n",
    "df12['DB_Temp'].iloc[:7]=np.nan\n",
    "df12['CloudCover'].iloc[:7]=np.nan\n",
    "df12['WindSpeed'].iloc[:7]=np.nan\n",
    "df12['RelativeHumidity'].iloc[:7]=np.nan\n",
    "df12['DewPointTemperature'].iloc[:7]=np.nan\n",
    "\n",
    "Frames = [df1,df2,df3,df4,df5,df6,df7,df8,df9,df10,df11,df12]\n",
    "result = pd.concat(Frames)\n",
    "result = result.interpolate()"
   ]
  },
  {
   "cell_type": "code",
   "execution_count": 54,
   "metadata": {},
   "outputs": [
    {
     "data": {
      "text/html": [
       "<div>\n",
       "<style scoped>\n",
       "    .dataframe tbody tr th:only-of-type {\n",
       "        vertical-align: middle;\n",
       "    }\n",
       "\n",
       "    .dataframe tbody tr th {\n",
       "        vertical-align: top;\n",
       "    }\n",
       "\n",
       "    .dataframe thead th {\n",
       "        text-align: right;\n",
       "    }\n",
       "</style>\n",
       "<table border=\"1\" class=\"dataframe\">\n",
       "  <thead>\n",
       "    <tr style=\"text-align: right;\">\n",
       "      <th></th>\n",
       "      <th>year</th>\n",
       "      <th>month</th>\n",
       "      <th>DB_Temp</th>\n",
       "      <th>DewPointTemperature</th>\n",
       "      <th>RelativeHumidity</th>\n",
       "      <th>WindSpeed</th>\n",
       "      <th>CloudCover</th>\n",
       "      <th>AtmosPressure</th>\n",
       "      <th>GHI</th>\n",
       "      <th>DNI</th>\n",
       "      <th>SolarZenith</th>\n",
       "      <th>DHI</th>\n",
       "    </tr>\n",
       "    <tr>\n",
       "      <th>DateTime</th>\n",
       "      <th></th>\n",
       "      <th></th>\n",
       "      <th></th>\n",
       "      <th></th>\n",
       "      <th></th>\n",
       "      <th></th>\n",
       "      <th></th>\n",
       "      <th></th>\n",
       "      <th></th>\n",
       "      <th></th>\n",
       "      <th></th>\n",
       "      <th></th>\n",
       "    </tr>\n",
       "  </thead>\n",
       "  <tbody>\n",
       "    <tr>\n",
       "      <th>2045-07-05 06:00:00</th>\n",
       "      <td>2045</td>\n",
       "      <td>7</td>\n",
       "      <td>16.187585</td>\n",
       "      <td>13.62</td>\n",
       "      <td>84.758759</td>\n",
       "      <td>2.632964</td>\n",
       "      <td>74.367569</td>\n",
       "      <td>102383.687500</td>\n",
       "      <td>63.283680</td>\n",
       "      <td>3.14</td>\n",
       "      <td>75.29</td>\n",
       "      <td>60.16</td>\n",
       "    </tr>\n",
       "    <tr>\n",
       "      <th>2045-07-05 07:00:00</th>\n",
       "      <td>2045</td>\n",
       "      <td>7</td>\n",
       "      <td>16.964542</td>\n",
       "      <td>13.35</td>\n",
       "      <td>79.273621</td>\n",
       "      <td>2.928851</td>\n",
       "      <td>68.954421</td>\n",
       "      <td>102389.856771</td>\n",
       "      <td>140.531202</td>\n",
       "      <td>18.89</td>\n",
       "      <td>65.37</td>\n",
       "      <td>156.08</td>\n",
       "    </tr>\n",
       "  </tbody>\n",
       "</table>\n",
       "</div>"
      ],
      "text/plain": [
       "                     year  month    DB_Temp  DewPointTemperature  \\\n",
       "DateTime                                                           \n",
       "2045-07-05 06:00:00  2045      7  16.187585                13.62   \n",
       "2045-07-05 07:00:00  2045      7  16.964542                13.35   \n",
       "\n",
       "                     RelativeHumidity  WindSpeed  CloudCover  AtmosPressure  \\\n",
       "DateTime                                                                      \n",
       "2045-07-05 06:00:00         84.758759   2.632964   74.367569  102383.687500   \n",
       "2045-07-05 07:00:00         79.273621   2.928851   68.954421  102389.856771   \n",
       "\n",
       "                            GHI    DNI  SolarZenith     DHI  \n",
       "DateTime                                                     \n",
       "2045-07-05 06:00:00   63.283680   3.14        75.29   60.16  \n",
       "2045-07-05 07:00:00  140.531202  18.89        65.37  156.08  "
      ]
     },
     "execution_count": 54,
     "metadata": {},
     "output_type": "execute_result"
    }
   ],
   "source": [
    "result.iloc[4446:4448]"
   ]
  },
  {
   "cell_type": "code",
   "execution_count": 24,
   "metadata": {},
   "outputs": [],
   "source": [
    "result['DHI'] = result['DHI'].apply(lambda x : x if x > 0 else 0)"
   ]
  },
  {
   "cell_type": "code",
   "execution_count": 26,
   "metadata": {},
   "outputs": [
    {
     "name": "stdout",
     "output_type": "stream",
     "text": [
      "<class 'pandas.core.frame.DataFrame'>\n",
      "DatetimeIndex: 8760 entries, 2064-01-01 00:00:00 to 2065-12-31 23:00:00\n",
      "Data columns (total 12 columns):\n",
      "year                   8760 non-null int32\n",
      "month                  8760 non-null int32\n",
      "DB_Temp                8760 non-null float64\n",
      "DewPointTemperature    8760 non-null float64\n",
      "RelativeHumidity       8760 non-null float64\n",
      "WindSpeed              8760 non-null float64\n",
      "CloudCover             8760 non-null float64\n",
      "AtmosPressure          8760 non-null float64\n",
      "GHI                    8760 non-null float64\n",
      "DNI                    8760 non-null float64\n",
      "SolarZenith            8760 non-null float64\n",
      "DHI                    8760 non-null float64\n",
      "dtypes: float64(10), int32(2)\n",
      "memory usage: 821.2 KB\n"
     ]
    }
   ],
   "source": [
    "result.info()"
   ]
  },
  {
   "cell_type": "code",
   "execution_count": 56,
   "metadata": {},
   "outputs": [
    {
     "data": {
      "text/html": [
       "<div>\n",
       "<style scoped>\n",
       "    .dataframe tbody tr th:only-of-type {\n",
       "        vertical-align: middle;\n",
       "    }\n",
       "\n",
       "    .dataframe tbody tr th {\n",
       "        vertical-align: top;\n",
       "    }\n",
       "\n",
       "    .dataframe thead th {\n",
       "        text-align: right;\n",
       "    }\n",
       "</style>\n",
       "<table border=\"1\" class=\"dataframe\">\n",
       "  <thead>\n",
       "    <tr style=\"text-align: right;\">\n",
       "      <th></th>\n",
       "      <th>year</th>\n",
       "      <th>month</th>\n",
       "      <th>DB_Temp</th>\n",
       "      <th>DewPointTemperature</th>\n",
       "      <th>RelativeHumidity</th>\n",
       "      <th>WindSpeed</th>\n",
       "      <th>CloudCover</th>\n",
       "      <th>AtmosPressure</th>\n",
       "      <th>GHI</th>\n",
       "      <th>DNI</th>\n",
       "      <th>SolarZenith</th>\n",
       "      <th>DHI</th>\n",
       "    </tr>\n",
       "    <tr>\n",
       "      <th>DateTime</th>\n",
       "      <th></th>\n",
       "      <th></th>\n",
       "      <th></th>\n",
       "      <th></th>\n",
       "      <th></th>\n",
       "      <th></th>\n",
       "      <th></th>\n",
       "      <th></th>\n",
       "      <th></th>\n",
       "      <th></th>\n",
       "      <th></th>\n",
       "      <th></th>\n",
       "    </tr>\n",
       "  </thead>\n",
       "  <tbody>\n",
       "    <tr>\n",
       "      <th>2064-01-01 00:00:00</th>\n",
       "      <td>2064</td>\n",
       "      <td>1</td>\n",
       "      <td>12.984369</td>\n",
       "      <td>12.08</td>\n",
       "      <td>94.240639</td>\n",
       "      <td>7.898614</td>\n",
       "      <td>100.0</td>\n",
       "      <td>99949.273438</td>\n",
       "      <td>0.0</td>\n",
       "      <td>0.0</td>\n",
       "      <td>155.75</td>\n",
       "      <td>0.0</td>\n",
       "    </tr>\n",
       "    <tr>\n",
       "      <th>2064-01-01 01:00:00</th>\n",
       "      <td>2064</td>\n",
       "      <td>1</td>\n",
       "      <td>12.483222</td>\n",
       "      <td>11.62</td>\n",
       "      <td>94.461810</td>\n",
       "      <td>7.677654</td>\n",
       "      <td>100.0</td>\n",
       "      <td>99883.575521</td>\n",
       "      <td>0.0</td>\n",
       "      <td>0.0</td>\n",
       "      <td>153.77</td>\n",
       "      <td>0.0</td>\n",
       "    </tr>\n",
       "    <tr>\n",
       "      <th>2064-01-01 02:00:00</th>\n",
       "      <td>2064</td>\n",
       "      <td>1</td>\n",
       "      <td>12.673921</td>\n",
       "      <td>11.84</td>\n",
       "      <td>94.682981</td>\n",
       "      <td>7.456694</td>\n",
       "      <td>100.0</td>\n",
       "      <td>99817.877604</td>\n",
       "      <td>0.0</td>\n",
       "      <td>0.0</td>\n",
       "      <td>147.22</td>\n",
       "      <td>0.0</td>\n",
       "    </tr>\n",
       "  </tbody>\n",
       "</table>\n",
       "</div>"
      ],
      "text/plain": [
       "                     year  month    DB_Temp  DewPointTemperature  \\\n",
       "DateTime                                                           \n",
       "2064-01-01 00:00:00  2064      1  12.984369                12.08   \n",
       "2064-01-01 01:00:00  2064      1  12.483222                11.62   \n",
       "2064-01-01 02:00:00  2064      1  12.673921                11.84   \n",
       "\n",
       "                     RelativeHumidity  WindSpeed  CloudCover  AtmosPressure  \\\n",
       "DateTime                                                                      \n",
       "2064-01-01 00:00:00         94.240639   7.898614       100.0   99949.273438   \n",
       "2064-01-01 01:00:00         94.461810   7.677654       100.0   99883.575521   \n",
       "2064-01-01 02:00:00         94.682981   7.456694       100.0   99817.877604   \n",
       "\n",
       "                     GHI  DNI  SolarZenith  DHI  \n",
       "DateTime                                         \n",
       "2064-01-01 00:00:00  0.0  0.0       155.75  0.0  \n",
       "2064-01-01 01:00:00  0.0  0.0       153.77  0.0  \n",
       "2064-01-01 02:00:00  0.0  0.0       147.22  0.0  "
      ]
     },
     "execution_count": 56,
     "metadata": {},
     "output_type": "execute_result"
    }
   ],
   "source": [
    "result.head(3)"
   ]
  },
  {
   "cell_type": "markdown",
   "metadata": {},
   "source": [
    "#### Overwriting calculated data to an existing epw file and saving it"
   ]
  },
  {
   "cell_type": "code",
   "execution_count": 29,
   "metadata": {},
   "outputs": [],
   "source": [
    "## Writing the weather data on epw weather template downloaded from EnergyPlus weather data platform\n",
    "from ladybug.epw import EPW\n",
    "from pandas import DataFrame\n",
    "from collections import OrderedDict\n",
    "%config Completer.use_jedi = False"
   ]
  },
  {
   "cell_type": "code",
   "execution_count": 30,
   "metadata": {},
   "outputs": [],
   "source": [
    "#field_number: a value between 0 to 34 for different available epw fields.\n",
    "#            0 Year\n",
    "#            1 Month\n",
    "#            2 Day\n",
    "#            3 Hour\n",
    "#            4 Minute\n",
    "\n",
    "#            6 Dry Bulb Temperature\n",
    "#            7 Dew Point Temperature\n",
    "#            8 Relative Humidity\n",
    "#            9 Atmospheric Station Pressure\n",
    "#            10 Extraterrestrial Horizontal Radiation\n",
    "#            11 Extraterrestrial Direct Normal Radiation\n",
    "#            12 Horizontal Infrared Radiation Intensity\n",
    "#            13 Global Horizontal Radiation\n",
    "#            14 Direct Normal Radiation\n",
    "#            15 Diffuse Horizontal Radiation\n",
    "#            16 Global Horizontal Illuminance\n",
    "#            17 Direct Normal Illuminance\n",
    "#            18 Diffuse Horizontal Illuminance\n",
    "#            19 Zenith Luminance\n",
    "#            20 Wind Direction\n",
    "#            21 Wind Speed\n",
    "#            22 Total Sky Cover\n",
    "#            23 Opaque Sky Cover\n",
    "#            24 Visibility\n",
    "#            25 Ceiling Height\n",
    "#            26 Present Weather Observation\n",
    "#            27 Present Weather Codes\n",
    "#            28 Precipitable Water\n",
    "#            29 Aerosol Optical Depth\n",
    "#            30 Snow Depth\n",
    "#            31 Days Since Last Snowfall\n",
    "#            32 Albedo\n",
    "#            33 Liquid Precipitation Depth\n",
    "#            34 Liquid Precipitation Quantity"
   ]
  },
  {
   "cell_type": "code",
   "execution_count": 31,
   "metadata": {},
   "outputs": [],
   "source": [
    "def changeEPWData(oldEpwFilePath,newEpwFilePath,dataIndex,dataList):\n",
    "    with open(oldEpwFilePath) as oldStream,open(newEpwFilePath,\"w\") as newStream:\n",
    "        numCount=0\n",
    "        for idx,lines in enumerate(oldStream):\n",
    "            if lines.strip():\n",
    "                try:\n",
    "                    lineSplit=lines.strip().split(\",\")\n",
    "                    dataTest=float(lineSplit[0])\n",
    "                    lineSplit[dataIndex]=str(dataList[numCount])\n",
    "                    data=\",\".join(lineSplit)\n",
    "                    newStream.write(data+\"\\n\")\n",
    "                    numCount+=1\n",
    "                except ValueError:\n",
    "                    newStream.write(lines.strip()+\"\\n\")\n",
    "            else:\n",
    "                newStream.write(lines)\n",
    "    return newEpwFilePath"
   ]
  },
  {
   "cell_type": "raw",
   "metadata": {},
   "source": [
    "# Everytime a set of values are overwritten on an epw with this function, it has to be saved then on the saved version the second climate variable needs to be overwritten. For the moment, important points are the first and last file. (when i get time I will improve the function to enable simultaneous overwriting of all varibles). "
   ]
  },
  {
   "cell_type": "code",
   "execution_count": 32,
   "metadata": {},
   "outputs": [
    {
     "data": {
      "text/plain": [
       "'D:\\\\Weather_files\\\\CORDEX_weather_data\\\\MPI_REMO\\\\Temporary\\\\CNRM2040_2070T.epw'"
      ]
     },
     "execution_count": 32,
     "metadata": {},
     "output_type": "execute_result"
    }
   ],
   "source": [
    "# Writing Dry bulb temperature on epw file. \n",
    "changeEPWData(r'D:\\Weather_files\\Nantes-RCP8-5_2050.epw',\n",
    "              r'D:\\Weather_files\\CORDEX_weather_data\\MPI_REMO\\Temporary\\CNRM2040_2070T.epw',\n",
    "              dataIndex=6,\n",
    "              dataList=result.DB_Temp)"
   ]
  },
  {
   "cell_type": "code",
   "execution_count": 33,
   "metadata": {},
   "outputs": [
    {
     "data": {
      "text/plain": [
       "'D:\\\\Weather_files\\\\CORDEX_weather_data\\\\MPI_REMO\\\\Temporary\\\\CNRM2040_2070Y.epw'"
      ]
     },
     "execution_count": 33,
     "metadata": {},
     "output_type": "execute_result"
    }
   ],
   "source": [
    "# Overwriting year\n",
    "changeEPWData(r'D:\\Weather_files\\CORDEX_weather_data\\MPI_REMO\\Temporary\\CNRM2040_2070T.epw',\n",
    "              r'D:\\Weather_files\\CORDEX_weather_data\\MPI_REMO\\Temporary\\CNRM2040_2070Y.epw',\n",
    "              dataIndex=0,\n",
    "              dataList=result.year)"
   ]
  },
  {
   "cell_type": "code",
   "execution_count": 34,
   "metadata": {},
   "outputs": [
    {
     "data": {
      "text/plain": [
       "'D:\\\\Weather_files\\\\CORDEX_weather_data\\\\MPI_REMO\\\\Temporary\\\\CNRM2040_2070DP.epw'"
      ]
     },
     "execution_count": 34,
     "metadata": {},
     "output_type": "execute_result"
    }
   ],
   "source": [
    "# Overwriting dew point temperature\n",
    "changeEPWData(r'D:\\Weather_files\\CORDEX_weather_data\\MPI_REMO\\Temporary\\CNRM2040_2070Y.epw',\n",
    "              r'D:\\Weather_files\\CORDEX_weather_data\\MPI_REMO\\Temporary\\CNRM2040_2070DP.epw',\n",
    "              dataIndex=7,\n",
    "              dataList=result.DewPointTemperature)"
   ]
  },
  {
   "cell_type": "code",
   "execution_count": 35,
   "metadata": {},
   "outputs": [
    {
     "data": {
      "text/plain": [
       "'D:\\\\Weather_files\\\\CORDEX_weather_data\\\\MPI_REMO\\\\Temporary\\\\CNRM2040_2070RH.epw'"
      ]
     },
     "execution_count": 35,
     "metadata": {},
     "output_type": "execute_result"
    }
   ],
   "source": [
    "# Overwriting RH\n",
    "changeEPWData(r'D:\\Weather_files\\CORDEX_weather_data\\MPI_REMO\\Temporary\\CNRM2040_2070DP.epw',\n",
    "              r'D:\\Weather_files\\CORDEX_weather_data\\MPI_REMO\\Temporary\\CNRM2040_2070RH.epw',\n",
    "              dataIndex=8,\n",
    "              dataList=result.RelativeHumidity)"
   ]
  },
  {
   "cell_type": "code",
   "execution_count": 36,
   "metadata": {},
   "outputs": [
    {
     "data": {
      "text/plain": [
       "'D:\\\\Weather_files\\\\CORDEX_weather_data\\\\MPI_REMO\\\\Temporary\\\\CNRM2040_2070AP.epw'"
      ]
     },
     "execution_count": 36,
     "metadata": {},
     "output_type": "execute_result"
    }
   ],
   "source": [
    "# Overwriting Atmospheric pressure \n",
    "changeEPWData(r'D:\\Weather_files\\CORDEX_weather_data\\MPI_REMO\\Temporary\\CNRM2040_2070RH.epw',\n",
    "              r'D:\\Weather_files\\CORDEX_weather_data\\MPI_REMO\\Temporary\\CNRM2040_2070AP.epw',\n",
    "              dataIndex=9,\n",
    "              dataList=result.AtmosPressure)"
   ]
  },
  {
   "cell_type": "code",
   "execution_count": 37,
   "metadata": {},
   "outputs": [
    {
     "data": {
      "text/plain": [
       "'D:\\\\Weather_files\\\\CORDEX_weather_data\\\\MPI_REMO\\\\Temporary\\\\CNRM2040_2070GHI.epw'"
      ]
     },
     "execution_count": 37,
     "metadata": {},
     "output_type": "execute_result"
    }
   ],
   "source": [
    "# Overwriting GHI\n",
    "changeEPWData(r'D:\\Weather_files\\CORDEX_weather_data\\MPI_REMO\\Temporary\\CNRM2040_2070AP.epw',\n",
    "              r'D:\\Weather_files\\CORDEX_weather_data\\MPI_REMO\\Temporary\\CNRM2040_2070GHI.epw',\n",
    "              dataIndex=13,\n",
    "              dataList=result.GHI)"
   ]
  },
  {
   "cell_type": "code",
   "execution_count": 38,
   "metadata": {},
   "outputs": [
    {
     "data": {
      "text/plain": [
       "'D:\\\\Weather_files\\\\CORDEX_weather_data\\\\MPI_REMO\\\\Temporary\\\\CNRM2040_2070DNI.epw'"
      ]
     },
     "execution_count": 38,
     "metadata": {},
     "output_type": "execute_result"
    }
   ],
   "source": [
    "# Overwriting DNI\n",
    "changeEPWData(r'D:\\Weather_files\\CORDEX_weather_data\\MPI_REMO\\Temporary\\CNRM2040_2070GHI.epw',\n",
    "              r'D:\\Weather_files\\CORDEX_weather_data\\MPI_REMO\\Temporary\\CNRM2040_2070DNI.epw',\n",
    "              dataIndex=14,\n",
    "              dataList=result.DNI)"
   ]
  },
  {
   "cell_type": "code",
   "execution_count": 39,
   "metadata": {},
   "outputs": [
    {
     "data": {
      "text/plain": [
       "'D:\\\\Weather_files\\\\CORDEX_weather_data\\\\MPI_REMO\\\\Temporary\\\\CNRM2040_2070DHI.epw'"
      ]
     },
     "execution_count": 39,
     "metadata": {},
     "output_type": "execute_result"
    }
   ],
   "source": [
    "# Overwriting DHI\n",
    "changeEPWData(r'D:\\Weather_files\\CORDEX_weather_data\\MPI_REMO\\Temporary\\CNRM2040_2070DNI.epw',\n",
    "              r'D:\\Weather_files\\CORDEX_weather_data\\MPI_REMO\\Temporary\\CNRM2040_2070DHI.epw',\n",
    "              dataIndex=15,\n",
    "              dataList=result.DHI)"
   ]
  },
  {
   "cell_type": "code",
   "execution_count": 40,
   "metadata": {},
   "outputs": [
    {
     "data": {
      "text/plain": [
       "'D:\\\\Weather_files\\\\MPI_REMO_deleteMe.epw'"
      ]
     },
     "execution_count": 40,
     "metadata": {},
     "output_type": "execute_result"
    }
   ],
   "source": [
    "# Overwriting wind speed \n",
    "changeEPWData(r'D:\\Weather_files\\CORDEX_weather_data\\MPI_REMO\\Temporary\\CNRM2040_2070DHI.epw',\n",
    "              r'D:\\Weather_files\\MPI_REMO_deleteMe.epw',\n",
    "              dataIndex=21,\n",
    "              dataList=result.WindSpeed)"
   ]
  },
  {
   "cell_type": "code",
   "execution_count": 47,
   "metadata": {},
   "outputs": [],
   "source": [
    "## Export result as csv \n",
    "#result.to_csv(r'D:\\Weather_files\\CORDEX_weather_data\\CSV_IPSL2040_2070.csv',index = 0)"
   ]
  }
 ],
 "metadata": {
  "kernelspec": {
   "display_name": "Python 3",
   "language": "python",
   "name": "python3"
  },
  "language_info": {
   "codemirror_mode": {
    "name": "ipython",
    "version": 3
   },
   "file_extension": ".py",
   "mimetype": "text/x-python",
   "name": "python",
   "nbconvert_exporter": "python",
   "pygments_lexer": "ipython3",
   "version": "3.8.6"
  }
 },
 "nbformat": 4,
 "nbformat_minor": 4
}
