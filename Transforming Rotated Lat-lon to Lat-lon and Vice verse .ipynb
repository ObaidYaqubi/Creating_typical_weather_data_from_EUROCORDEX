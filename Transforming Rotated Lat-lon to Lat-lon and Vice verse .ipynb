{
 "cells": [
  {
   "cell_type": "code",
   "execution_count": 28,
   "metadata": {},
   "outputs": [],
   "source": [
    "from math import *\n",
    "import geopy.distance\n",
    "import pyproj\n",
    "from pyproj import Transformer\n",
    "%config Completer.use_jedi = False"
   ]
  },
  {
   "cell_type": "markdown",
   "metadata": {},
   "source": [
    "### Transforming lat/lon to rlat/rlon and vice versa"
   ]
  },
  {
   "cell_type": "markdown",
   "metadata": {},
   "source": [
    "##### Properties of NetCDF coordinates downloaded from CORDEX domain. "
   ]
  },
  {
   "cell_type": "code",
   "execution_count": null,
   "metadata": {},
   "outputs": [],
   "source": [
    "## Grid north pole latitude and longitude to grid south pole latitude and longitude \n",
    "##|S1 rotated_pole()\n",
    "##    grid_mapping_name: rotated_latitude_longitude\n",
    "##    grid_north_pole_latitude: 39.25\n",
    "##    grid_north_pole_longitude: -162.0"
   ]
  },
  {
   "cell_type": "code",
   "execution_count": 2,
   "metadata": {},
   "outputs": [],
   "source": [
    "# From properties it can be seen that the position of the rotated_pole is given in north_Pole geographic coordinates. \n",
    "# We first transform grid_north_pole_latitude/longitude to grid_south_pole_latitude/longitude."
   ]
  },
  {
   "cell_type": "code",
   "execution_count": null,
   "metadata": {},
   "outputs": [],
   "source": [
    "# SP_lat = - NP_lat     # Grid_South_pole_latitude for this case becomes -39.25\n",
    "# SP_Lon = NP_lon -180  # Grid South Pole longitude for this case becomes -162.0 - 180 = -342 = 18"
   ]
  },
  {
   "cell_type": "code",
   "execution_count": null,
   "metadata": {},
   "outputs": [],
   "source": [
    "##The function below transforms lat/lon to rlat/rlon and vice versa\n",
    "#if option =1, it transforms lat/lon to rlat/rlon # else, it transforms rlat/rlon to lat/lon "
   ]
  },
  {
   "cell_type": "code",
   "execution_count": 29,
   "metadata": {},
   "outputs": [],
   "source": [
    "def rotated_grid_transform(grid_in, option, SP_coor):\n",
    "    lon = grid_in[0]\n",
    "    lat = grid_in[1];\n",
    "\n",
    "    lon = (lon*pi)/180; # Convert degrees to radians\n",
    "    lat = (lat*pi)/180;\n",
    "    SP_lon = SP_coor[0];\n",
    "    SP_lat = SP_coor[1];\n",
    "\n",
    "    theta = 90+SP_lat; # Rotation around y-axis\n",
    "    phi = SP_lon; # Rotation around z-axis\n",
    "\n",
    "    theta = (theta*pi)/180;\n",
    "    phi = (phi*pi)/180; # Convert degrees to radians\n",
    "\n",
    "    x = cos(lon)*cos(lat); # Convert from spherical to cartesian coordinates\n",
    "    y = sin(lon)*cos(lat);\n",
    "    z = sin(lat);\n",
    "\n",
    "    if option == 1: # Regular -> Rotated\n",
    "        x_new = cos(theta)*cos(phi)*x + cos(theta)*sin(phi)*y + sin(theta)*z;\n",
    "        y_new = -sin(phi)*x + cos(phi)*y;\n",
    "        z_new = -sin(theta)*cos(phi)*x - sin(theta)*sin(phi)*y + cos(theta)*z;\n",
    "\n",
    "    else:  # Rotated -> Regular\n",
    "        phi = -phi;\n",
    "        theta = -theta;\n",
    "        x_new = cos(theta)*cos(phi)*x + sin(phi)*y + sin(theta)*cos(phi)*z;\n",
    "        y_new = -cos(theta)*sin(phi)*x + cos(phi)*y - sin(theta)*sin(phi)*z;\n",
    "        z_new = -sin(theta)*x + cos(theta)*z;\n",
    "\n",
    "    lon_new = atan2(y_new,x_new); # Convert cartesian back to spherical coordinates\n",
    "    lat_new = asin(z_new);\n",
    "    lon_new = (lon_new*180)/pi; # Convert radians back to degrees\n",
    "    lat_new = (lat_new*180)/pi;\n",
    "    \n",
    "    print (lon_new,lat_new)"
   ]
  },
  {
   "cell_type": "code",
   "execution_count": 34,
   "metadata": {},
   "outputs": [
    {
     "name": "stdout",
     "output_type": "stream",
     "text": [
      "-13.146332621887227 -1.7927858546021267\n"
     ]
    }
   ],
   "source": [
    "# Geographic coordinates of Nantes (-1.553621,47.21725)\n",
    "rotated_grid_transform((-1.553621,47.21725), 1, (-342,-39.25))"
   ]
  },
  {
   "cell_type": "code",
   "execution_count": 5,
   "metadata": {},
   "outputs": [
    {
     "name": "stdout",
     "output_type": "stream",
     "text": [
      "-1.5536210000000008 47.218371\n"
     ]
    }
   ],
   "source": [
    "# verifying transformation \n",
    "rotated_grid_transform((-13.146041795940194,-1.791703198608463), 2, (-342,-39.25))"
   ]
  }
 ],
 "metadata": {
  "kernelspec": {
   "display_name": "Python 3",
   "language": "python",
   "name": "python3"
  },
  "language_info": {
   "codemirror_mode": {
    "name": "ipython",
    "version": 3
   },
   "file_extension": ".py",
   "mimetype": "text/x-python",
   "name": "python",
   "nbconvert_exporter": "python",
   "pygments_lexer": "ipython3",
   "version": "3.8.6"
  }
 },
 "nbformat": 4,
 "nbformat_minor": 4
}
